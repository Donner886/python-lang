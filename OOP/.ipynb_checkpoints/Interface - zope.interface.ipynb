{
 "cells": [
  {
   "cell_type": "code",
   "id": "initial_id",
   "metadata": {
    "collapsed": true,
    "ExecuteTime": {
     "end_time": "2025-04-27T05:05:18.800847Z",
     "start_time": "2025-04-27T05:05:18.774525Z"
    }
   },
   "source": [
    "from zope.interface import Interface, Attribute\n",
    "class ICollidable(Interface):\n",
    "    boudning_box = Attribute(\"The objects' bounding box\")"
   ],
   "outputs": [],
   "execution_count": 1
  },
  {
   "metadata": {},
   "cell_type": "code",
   "outputs": [],
   "execution_count": null,
   "source": [
    "from zope.interface import implementer\n",
    "from dataclasses import dataclass\n",
    "\n",
    "\n",
    "@implementer(ICollidable)\n",
    "@dataclass\n",
    "class Square:\n",
    "    pass\n",
    "\n",
    "\n",
    " "
   ],
   "id": "f7d64f1a60782612"
  }
 ],
 "metadata": {
  "kernelspec": {
   "display_name": "Python 3",
   "language": "python",
   "name": "python3"
  },
  "language_info": {
   "codemirror_mode": {
    "name": "ipython",
    "version": 2
   },
   "file_extension": ".py",
   "mimetype": "text/x-python",
   "name": "python",
   "nbconvert_exporter": "python",
   "pygments_lexer": "ipython2",
   "version": "2.7.6"
  }
 },
 "nbformat": 4,
 "nbformat_minor": 5
}
