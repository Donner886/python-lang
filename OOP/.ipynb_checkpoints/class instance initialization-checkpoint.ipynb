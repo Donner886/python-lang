{
 "cells": [
  {
   "cell_type": "code",
   "id": "initial_id",
   "metadata": {
    "collapsed": true,
    "ExecuteTime": {
     "end_time": "2025-03-25T13:56:51.006328Z",
     "start_time": "2025-03-25T13:56:50.997606Z"
    }
   },
   "source": [
    "class Aggregator:\n",
    "     all_aggregated = []\n",
    "     last_aggregated = None\n",
    "     \n",
    "     def aggregate(self, value):\n",
    "         self.last_aggregated = value\n",
    "         self.all_aggregated.append(value)"
   ],
   "outputs": [],
   "execution_count": 1
  },
  {
   "metadata": {
    "ExecuteTime": {
     "end_time": "2025-03-25T14:22:10.124224Z",
     "start_time": "2025-03-25T14:22:10.113502Z"
    }
   },
   "cell_type": "code",
   "source": [
    "a1 = Aggregator()\n",
    "a2 = Aggregator()\n",
    "a1.aggregate('a1-1')\n",
    "a1.aggregate('a1-2')\n",
    "a2.aggregate('a2-1')\n",
    "a1.all_aggregated\n",
    "a2.all_aggregated\n",
    "\n",
    "a1.last_aggregated\n",
    "a2.last_aggregated\n",
    "\n"
   ],
   "id": "4c481f6556f31fed",
   "outputs": [
    {
     "data": {
      "text/plain": [
       "'a2-1'"
      ]
     },
     "execution_count": 9,
     "metadata": {},
     "output_type": "execute_result"
    }
   ],
   "execution_count": 9
  },
  {
   "metadata": {
    "ExecuteTime": {
     "end_time": "2025-04-07T01:39:07.386467Z",
     "start_time": "2025-04-07T01:39:07.381927Z"
    }
   },
   "cell_type": "code",
   "source": "",
   "id": "adb75c93d2e75cf1",
   "outputs": [],
   "execution_count": null
  },
  {
   "metadata": {
    "ExecuteTime": {
     "end_time": "2025-04-07T01:39:07.391324Z",
     "start_time": "2025-04-07T01:39:07.388475Z"
    }
   },
   "cell_type": "code",
   "source": "",
   "id": "94445b44e57adf15",
   "outputs": [],
   "execution_count": null
  },
  {
   "metadata": {
    "ExecuteTime": {
     "end_time": "2025-04-07T01:48:45.272783Z",
     "start_time": "2025-04-07T01:48:45.267388Z"
    }
   },
   "cell_type": "code",
   "source": "import holidays",
   "id": "29463469ff454c05",
   "outputs": [],
   "execution_count": 17
  },
  {
   "metadata": {
    "ExecuteTime": {
     "end_time": "2025-04-07T01:48:45.421966Z",
     "start_time": "2025-04-07T01:48:45.415027Z"
    }
   },
   "cell_type": "code",
   "source": "hk_holidays = holidays.US()",
   "id": "5704ef4c14dd2ee8",
   "outputs": [],
   "execution_count": 18
  },
  {
   "metadata": {
    "ExecuteTime": {
     "end_time": "2025-04-07T01:48:45.648052Z",
     "start_time": "2025-04-07T01:48:45.641734Z"
    }
   },
   "cell_type": "code",
   "source": [
    "for date, item in hk_holidays.items():\n",
    "    print(date)\n",
    "    print(item)\n",
    "    \n",
    "    "
   ],
   "id": "5e3ce7b0afcb3779",
   "outputs": [],
   "execution_count": 19
  },
  {
   "metadata": {},
   "cell_type": "code",
   "outputs": [],
   "execution_count": null,
   "source": "",
   "id": "361c0438403fe04f"
  }
 ],
 "metadata": {
  "kernelspec": {
   "display_name": "Python 3",
   "language": "python",
   "name": "python3"
  },
  "language_info": {
   "codemirror_mode": {
    "name": "ipython",
    "version": 2
   },
   "file_extension": ".py",
   "mimetype": "text/x-python",
   "name": "python",
   "nbconvert_exporter": "python",
   "pygments_lexer": "ipython2",
   "version": "2.7.6"
  }
 },
 "nbformat": 4,
 "nbformat_minor": 5
}
