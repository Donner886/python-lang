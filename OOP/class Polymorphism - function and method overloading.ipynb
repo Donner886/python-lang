{
 "cells": [
  {
   "metadata": {
    "ExecuteTime": {
     "end_time": "2025-04-20T13:10:03.271927Z",
     "start_time": "2025-04-20T13:10:03.265877Z"
    }
   },
   "cell_type": "code",
   "source": "",
   "id": "bcbfff71e3c117e6",
   "outputs": [],
   "execution_count": 1
  },
  {
   "metadata": {
    "ExecuteTime": {
     "end_time": "2025-04-20T13:34:44.433600Z",
     "start_time": "2025-04-20T13:34:44.428948Z"
    }
   },
   "cell_type": "code",
   "source": [
    "#### By default, we could use the f-string to denote a raw value in string format\n",
    "\n",
    "#### From there, we can start registering different implementations for various types using @report.register() decorator.  \n",
    "#### That decorator is able to read function argument type annotations to register specific type handlers.  \n",
    "\n",
    "from functools import singledispatch\n",
    "\n",
    "@singledispatch\n",
    "def report(value):\n",
    "    return f'raw: {value}'\n",
    "\n",
    "from datetime  import datetime\n",
    "@report.register\n",
    "def _(value:datetime):\n",
    "    \n",
    "    \"\"\"\n",
    "    :param value: \n",
    "    :return: \n",
    "    Note that we used the\n",
    "    token as the actual function name. That serves two: \n",
    "    purposes. \n",
    "        First, it is a convention for names of objects that are not supposed to be used explicitly. \n",
    "        Second, if we used the report name instead, we would shadow the original function, thus losing the ability to access it and register new types.\n",
    "    \"\"\"\n",
    "    return f'dt: {value.isoformat()}'\n",
    "\n",
    "\n",
    "from numbers import Real\n",
    "\n",
    "@report.register\n",
    "def _(value:Real):\n",
    "    return f'real: {value:f}'\n",
    "\n",
    "@report.register\n",
    "def _(value:complex):\n",
    "    return f\"complex: {value.real:f} {value.imag:f}\"\n",
    "\n",
    "\"\"\"\n",
    "    Note that typing annotations arenot necessary but we've used them as an element of good practices.\n",
    "    if you donot want to use typing annotations, you can specify the registered type as the register() method argument. \n",
    "\"\"\"\n",
    "@report.register(complex)\n",
    "def _(value):\n",
    "    return f\"complex: {value.real:f} {value.imag:f}\"\n",
    "\n",
    "@report.register(int)\n",
    "def _(value):\n",
    "    return f'int: {value}'\n"
   ],
   "id": "335da1ae80e8c695",
   "outputs": [],
   "execution_count": 7
  },
  {
   "metadata": {},
   "cell_type": "code",
   "outputs": [],
   "execution_count": null,
   "source": "",
   "id": "12922491e95f632b"
  }
 ],
 "metadata": {
  "kernelspec": {
   "display_name": "Python 3",
   "language": "python",
   "name": "python3"
  },
  "language_info": {
   "codemirror_mode": {
    "name": "ipython",
    "version": 2
   },
   "file_extension": ".py",
   "mimetype": "text/x-python",
   "name": "python",
   "nbconvert_exporter": "python",
   "pygments_lexer": "ipython2",
   "version": "2.7.6"
  }
 },
 "nbformat": 4,
 "nbformat_minor": 5
}
