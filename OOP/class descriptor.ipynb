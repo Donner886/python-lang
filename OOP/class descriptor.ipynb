{
 "cells": [
  {
   "metadata": {
    "ExecuteTime": {
     "end_time": "2025-04-07T13:19:05.978343Z",
     "start_time": "2025-04-07T13:19:05.970471Z"
    }
   },
   "cell_type": "code",
   "source": [
    "class RevealAccess(object):\n",
    "    \"\"\"\n",
    "    A data descriptor that sets and returns values \n",
    "    normally and prints a message logging their access\n",
    "    \"\"\"\n",
    "    def __init__(self, initvel=None, name='val'):\n",
    "        self.val = initvel\n",
    "        self.name = name\n",
    "        \n",
    "    def __get__(self, instance, owner):\n",
    "        print(\"Retrieving\", self.name)\n",
    "        return self.val\n",
    "        \n",
    "    def __set__(self, instance, value):\n",
    "        print('Updating', self.name)\n",
    "        self.val = value\n",
    "        \n",
    "    def __del__(self):\n",
    "        print('Deleting', self.name)\n",
    "\n",
    "        \n",
    "    "
   ],
   "id": "9bce0b270847612d",
   "outputs": [],
   "execution_count": 16
  },
  {
   "cell_type": "code",
   "id": "initial_id",
   "metadata": {
    "collapsed": true,
    "ExecuteTime": {
     "end_time": "2025-04-07T13:19:06.662747Z",
     "start_time": "2025-04-07T13:19:06.657005Z"
    }
   },
   "source": [
    "class MyClass(object):\n",
    "    x = RevealAccess(10, 'val: \"x\"')   ### 描述符\n",
    "    y =  5"
   ],
   "outputs": [],
   "execution_count": 17
  },
  {
   "metadata": {
    "ExecuteTime": {
     "end_time": "2025-04-07T13:19:07.133127Z",
     "start_time": "2025-04-07T13:19:07.126967Z"
    }
   },
   "cell_type": "code",
   "source": "m = MyClass()",
   "id": "4939b7c19dbd0c6f",
   "outputs": [],
   "execution_count": 18
  },
  {
   "metadata": {
    "ExecuteTime": {
     "end_time": "2025-04-07T13:19:07.654428Z",
     "start_time": "2025-04-07T13:19:07.638055Z"
    }
   },
   "cell_type": "code",
   "source": "m.x",
   "id": "f7611486acb45dff",
   "outputs": [
    {
     "name": "stdout",
     "output_type": "stream",
     "text": [
      "Retrieving val: \"x\"\n"
     ]
    },
    {
     "data": {
      "text/plain": [
       "10"
      ]
     },
     "execution_count": 19,
     "metadata": {},
     "output_type": "execute_result"
    }
   ],
   "execution_count": 19
  },
  {
   "metadata": {
    "ExecuteTime": {
     "end_time": "2025-04-08T13:04:53.371056Z",
     "start_time": "2025-04-08T13:04:53.361449Z"
    }
   },
   "cell_type": "code",
   "source": "",
   "id": "d38efd25d2343ccc",
   "outputs": [],
   "execution_count": 19
  },
  {
   "metadata": {},
   "cell_type": "code",
   "outputs": [],
   "execution_count": null,
   "source": " ",
   "id": "ff7717b5f0f6a234"
  },
  {
   "metadata": {},
   "cell_type": "markdown",
   "source": [
    "###  Real-life example - Laziy evaluated attributes\n",
    "\n",
    "One example usage of descriptors may be to delay the initialization of the class attribute to the moment when it is accessed from the instance. \n",
    "\n",
    "this maybe useful if the initializatoin of such attributes depends on some context that is not yet available at the time the class is imported. \n",
    "\n",
    "the other case is saving recources when such initialization is simply expensive in terms of computing resources but it is not known when the attribute will be used anyway at the time class is imported . \n"
   ],
   "id": "dc0f123db05ba2d"
  },
  {
   "metadata": {
    "ExecuteTime": {
     "end_time": "2025-04-08T13:48:17.127779Z",
     "start_time": "2025-04-08T13:48:17.102280Z"
    }
   },
   "cell_type": "code",
   "source": [
    "class InitOnAccess:\n",
    "    def __init__(self, init_func, *args, **kwargs):\n",
    "        self.klass = init_func\n",
    "        self.args = args\n",
    "        self.kwargs = kwargs\n",
    "        self._initialized = None\n",
    "        \n",
    "    def __get__(self, instance, owner):\n",
    "        if self._initialized is None:\n",
    "            print('initialzed!!')\n",
    "            self._initialized = self.klass(*self.args, **self.kwargs)\n",
    "        else:\n",
    "            print('cached') \n",
    "        return self._initialized \n",
    "    "
   ],
   "id": "40a25425633f371a",
   "outputs": [],
   "execution_count": 20
  },
  {
   "metadata": {
    "ExecuteTime": {
     "end_time": "2025-04-08T14:04:08.286046Z",
     "start_time": "2025-04-08T14:04:08.279399Z"
    }
   },
   "cell_type": "code",
   "source": [
    "import random\n",
    "\n",
    "class WithSortedRandoms:\n",
    "    lazily_initialized = InitOnAccess(sorted, [ random.random() for _ in range(5)])\n",
    "    "
   ],
   "id": "ce597d57bcb1ab14",
   "outputs": [],
   "execution_count": 27
  },
  {
   "metadata": {
    "ExecuteTime": {
     "end_time": "2025-04-08T14:04:09.860210Z",
     "start_time": "2025-04-08T14:04:09.854602Z"
    }
   },
   "cell_type": "code",
   "source": "list_of_randomness = WithSortedRandoms()",
   "id": "b646d0206746a627",
   "outputs": [],
   "execution_count": 28
  },
  {
   "metadata": {
    "ExecuteTime": {
     "end_time": "2025-04-08T14:04:10.736824Z",
     "start_time": "2025-04-08T14:04:10.730491Z"
    }
   },
   "cell_type": "code",
   "source": "list_of_randomness.lazily_initialized",
   "id": "2e7fb101978e456e",
   "outputs": [
    {
     "name": "stdout",
     "output_type": "stream",
     "text": [
      "initialzed!!\n"
     ]
    },
    {
     "data": {
      "text/plain": [
       "[0.23825891335785687,\n",
       " 0.36022172072884884,\n",
       " 0.38343479762344856,\n",
       " 0.6314620111413072,\n",
       " 0.8577221009249573]"
      ]
     },
     "execution_count": 29,
     "metadata": {},
     "output_type": "execute_result"
    }
   ],
   "execution_count": 29
  },
  {
   "metadata": {
    "ExecuteTime": {
     "end_time": "2025-04-08T14:04:23.882583Z",
     "start_time": "2025-04-08T14:04:23.862261Z"
    }
   },
   "cell_type": "code",
   "source": "list_of_randomness.lazily_initialized",
   "id": "e6d29d602717794",
   "outputs": [
    {
     "name": "stdout",
     "output_type": "stream",
     "text": [
      "cached\n"
     ]
    },
    {
     "data": {
      "text/plain": [
       "[0.23825891335785687,\n",
       " 0.36022172072884884,\n",
       " 0.38343479762344856,\n",
       " 0.6314620111413072,\n",
       " 0.8577221009249573]"
      ]
     },
     "execution_count": 31,
     "metadata": {},
     "output_type": "execute_result"
    }
   ],
   "execution_count": 31
  },
  {
   "metadata": {},
   "cell_type": "code",
   "outputs": [],
   "execution_count": null,
   "source": "",
   "id": "91a36d9faf85ab03"
  }
 ],
 "metadata": {
  "kernelspec": {
   "display_name": "Python 3",
   "language": "python",
   "name": "python3"
  },
  "language_info": {
   "codemirror_mode": {
    "name": "ipython",
    "version": 2
   },
   "file_extension": ".py",
   "mimetype": "text/x-python",
   "name": "python",
   "nbconvert_exporter": "python",
   "pygments_lexer": "ipython2",
   "version": "2.7.6"
  }
 },
 "nbformat": 4,
 "nbformat_minor": 5
}
