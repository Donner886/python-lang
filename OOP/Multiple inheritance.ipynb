{
 "cells": [
  {
   "metadata": {},
   "cell_type": "markdown",
   "source": [
    "### Multiple inheritance and Method Resolution Order\n",
    "\n",
    "Python MRO is based on C3 linearization, 在多重继承中，如果多个父类有相同的方法，Python 需要决定调用哪一个。Python 需要一种规则来决定 D 的方法调用顺序（MRO），而 C3 线性化 就是用来计算这个顺序的算法。\n"
   ],
   "id": "740a020dcedbf9b2"
  },
  {
   "metadata": {
    "ExecuteTime": {
     "end_time": "2025-03-24T14:19:54.039101Z",
     "start_time": "2025-03-24T14:19:54.029824Z"
    }
   },
   "cell_type": "code",
   "source": [
    "class A:\n",
    "    def foo(self):\n",
    "        print(\"A.foo\")\n",
    "\n",
    "class B(A):\n",
    "    def foo(self):\n",
    "        print(\"B.foo\")\n",
    "\n",
    "class C(A):\n",
    "    def foo(self):\n",
    "        print(\"C.foo\")\n",
    "\n",
    "class D(B, C, A):\n",
    "    pass\n"
   ],
   "id": "9216b16a3ee7d13c",
   "outputs": [],
   "execution_count": 3
  },
  {
   "metadata": {
    "ExecuteTime": {
     "end_time": "2025-03-24T14:19:59.658864Z",
     "start_time": "2025-03-24T14:19:59.647706Z"
    }
   },
   "cell_type": "code",
   "source": "D.__mro__",
   "id": "c5b2560a1e20f82f",
   "outputs": [
    {
     "data": {
      "text/plain": [
       "(__main__.D, __main__.B, __main__.C, __main__.A, object)"
      ]
     },
     "execution_count": 4,
     "metadata": {},
     "output_type": "execute_result"
    }
   ],
   "execution_count": 4
  },
  {
   "metadata": {
    "ExecuteTime": {
     "end_time": "2025-03-24T14:57:37.605026Z",
     "start_time": "2025-03-24T14:57:37.588719Z"
    }
   },
   "cell_type": "code",
   "source": "D.mro()",
   "id": "e43d2285b5abb463",
   "outputs": [
    {
     "data": {
      "text/plain": [
       "[__main__.D, __main__.B, __main__.C, __main__.A, object]"
      ]
     },
     "execution_count": 5,
     "metadata": {},
     "output_type": "execute_result"
    }
   ],
   "execution_count": 5
  },
  {
   "metadata": {},
   "cell_type": "code",
   "outputs": [],
   "execution_count": null,
   "source": "",
   "id": "3012b8f68d49f153"
  }
 ],
 "metadata": {
  "kernelspec": {
   "display_name": "Python 3",
   "language": "python",
   "name": "python3"
  },
  "language_info": {
   "codemirror_mode": {
    "name": "ipython",
    "version": 2
   },
   "file_extension": ".py",
   "mimetype": "text/x-python",
   "name": "python",
   "nbconvert_exporter": "python",
   "pygments_lexer": "ipython2",
   "version": "2.7.6"
  }
 },
 "nbformat": 4,
 "nbformat_minor": 5
}
