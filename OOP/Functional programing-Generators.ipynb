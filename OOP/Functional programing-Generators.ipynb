{
 "cells": [
  {
   "cell_type": "code",
   "id": "initial_id",
   "metadata": {
    "collapsed": true,
    "ExecuteTime": {
     "end_time": "2025-04-23T02:54:08.367789Z",
     "start_time": "2025-04-23T02:54:08.362110Z"
    }
   },
   "source": [
    "def fibonacci():\n",
    "    a, b = 0, 1\n",
    "    while True:\n",
    "        yield b \n",
    "        a, b = b, a +b "
   ],
   "outputs": [],
   "execution_count": 1
  },
  {
   "metadata": {
    "ExecuteTime": {
     "end_time": "2025-04-23T02:58:08.569643Z",
     "start_time": "2025-04-23T02:58:08.565449Z"
    }
   },
   "cell_type": "code",
   "source": "fib  =  fibonacci()",
   "id": "40685455ed6939d",
   "outputs": [],
   "execution_count": 2
  },
  {
   "metadata": {
    "ExecuteTime": {
     "end_time": "2025-04-23T02:58:21.377978Z",
     "start_time": "2025-04-23T02:58:21.371698Z"
    }
   },
   "cell_type": "code",
   "source": "next(fib)",
   "id": "846548df2b2cb0b7",
   "outputs": [
    {
     "data": {
      "text/plain": [
       "1"
      ]
     },
     "execution_count": 4,
     "metadata": {},
     "output_type": "execute_result"
    }
   ],
   "execution_count": 4
  },
  {
   "metadata": {
    "ExecuteTime": {
     "end_time": "2025-04-23T02:58:56.570552Z",
     "start_time": "2025-04-23T02:58:56.566109Z"
    }
   },
   "cell_type": "code",
   "source": [
    "for item in fibonacci():\n",
    "    print(item)\n",
    "    if item > 10:\n",
    "        break"
   ],
   "id": "3755d8548eb0ca83",
   "outputs": [
    {
     "name": "stdout",
     "output_type": "stream",
     "text": [
      "1\n",
      "1\n",
      "2\n",
      "3\n",
      "5\n",
      "8\n",
      "13\n"
     ]
    }
   ],
   "execution_count": 5
  },
  {
   "metadata": {
    "ExecuteTime": {
     "end_time": "2025-04-24T02:50:27.636438Z",
     "start_time": "2025-04-24T02:50:27.626436Z"
    }
   },
   "cell_type": "code",
   "source": "",
   "id": "4766bec36c2456ff",
   "outputs": [],
   "execution_count": 5
  },
  {
   "metadata": {
    "ExecuteTime": {
     "end_time": "2025-04-24T02:50:27.658948Z",
     "start_time": "2025-04-24T02:50:27.655487Z"
    }
   },
   "cell_type": "code",
   "source": "",
   "id": "7f4695f19e7d48fa",
   "outputs": [],
   "execution_count": 5
  },
  {
   "metadata": {
    "ExecuteTime": {
     "end_time": "2025-04-24T02:50:50.180997Z",
     "start_time": "2025-04-24T02:50:50.174996Z"
    }
   },
   "cell_type": "code",
   "source": "from enum import Enum, auto",
   "id": "36d689efa80f9dd6",
   "outputs": [],
   "execution_count": 6
  },
  {
   "metadata": {
    "ExecuteTime": {
     "end_time": "2025-04-24T02:51:41.554550Z",
     "start_time": "2025-04-24T02:51:41.548683Z"
    }
   },
   "cell_type": "code",
   "source": [
    "class WeekDay(Enum):\n",
    "    MONDAY = 0\n",
    "    TUESDAY = 1\n",
    "    WEDNESDAY = 2\n",
    "    THURDAY = 3\n",
    "    FRIDAY = 4\n",
    "    SATURDAY = 5\n",
    "    SUNDAY = 6"
   ],
   "id": "f9fe9cf25b23a9f7",
   "outputs": [],
   "execution_count": 7
  },
  {
   "metadata": {
    "ExecuteTime": {
     "end_time": "2025-04-24T02:55:36.812678Z",
     "start_time": "2025-04-24T02:55:36.808645Z"
    }
   },
   "cell_type": "code",
   "source": "WeekDay.FRIDAY.name",
   "id": "205e68f03c2b3224",
   "outputs": [
    {
     "data": {
      "text/plain": [
       "'FRIDAY'"
      ]
     },
     "execution_count": 12,
     "metadata": {},
     "output_type": "execute_result"
    }
   ],
   "execution_count": 12
  },
  {
   "metadata": {
    "ExecuteTime": {
     "end_time": "2025-04-24T02:55:44.742312Z",
     "start_time": "2025-04-24T02:55:44.737311Z"
    }
   },
   "cell_type": "code",
   "source": "WeekDay.FRIDAY.value",
   "id": "bd0cce7f2d54ca43",
   "outputs": [
    {
     "data": {
      "text/plain": [
       "4"
      ]
     },
     "execution_count": 13,
     "metadata": {},
     "output_type": "execute_result"
    }
   ],
   "execution_count": 13
  },
  {
   "metadata": {},
   "cell_type": "code",
   "outputs": [],
   "execution_count": null,
   "source": "",
   "id": "1878ed06a9d508c1"
  }
 ],
 "metadata": {
  "kernelspec": {
   "display_name": "Python 3",
   "language": "python",
   "name": "python3"
  },
  "language_info": {
   "codemirror_mode": {
    "name": "ipython",
    "version": 2
   },
   "file_extension": ".py",
   "mimetype": "text/x-python",
   "name": "python",
   "nbconvert_exporter": "python",
   "pygments_lexer": "ipython2",
   "version": "2.7.6"
  }
 },
 "nbformat": 4,
 "nbformat_minor": 5
}
