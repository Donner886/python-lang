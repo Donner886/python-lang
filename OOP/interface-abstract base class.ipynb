{
 "cells": [
  {
   "metadata": {
    "ExecuteTime": {
     "end_time": "2025-04-28T08:59:33.043808Z",
     "start_time": "2025-04-28T08:59:33.033164Z"
    }
   },
   "cell_type": "code",
   "source": [
    "from abc import ABC, abstractmethod\n",
    "from dataclasses import dataclass\n",
    "\n",
    "class ColliderABC(ABC):\n",
    "    @property\n",
    "    @abstractmethod\n",
    "    def bounding_box(self):\n",
    "        pass\n",
    "    \n",
    "@dataclass\n",
    "class Square(ColliderABC):\n",
    "    x: int\n",
    "    y: int\n",
    "    width: int\n",
    "    \n",
    "        \n",
    "@dataclass\n",
    "class Rectangle(ColliderABC):\n",
    "    x: int \n",
    "    y: int \n",
    "    width: int\n",
    "    length: int\n",
    "    \n",
    "    \n",
    "@dataclass\n",
    "class Circle(ColliderABC):\n",
    "    x: int\n",
    "    y: int \n",
    "    radius: int"
   ],
   "id": "1e1aeb5230039f86",
   "outputs": [],
   "execution_count": 15
  },
  {
   "metadata": {
    "ExecuteTime": {
     "end_time": "2025-04-28T08:59:35.697369Z",
     "start_time": "2025-04-28T08:59:35.690365Z"
    }
   },
   "cell_type": "code",
   "source": [
    "for key, value in Rectangle.__dict__.items():\n",
    "    print(f'--------{key}-----------')\n",
    "    print(value)"
   ],
   "id": "483b3d85ba72c756",
   "outputs": [
    {
     "name": "stdout",
     "output_type": "stream",
     "text": [
      "--------__module__-----------\n",
      "__main__\n",
      "--------__annotations__-----------\n",
      "{'x': <class 'int'>, 'y': <class 'int'>, 'width': <class 'int'>, 'length': <class 'int'>}\n",
      "--------__doc__-----------\n",
      "Rectangle(x: int, y: int, width: int, length: int)\n",
      "--------__abstractmethods__-----------\n",
      "frozenset({'bounding_box'})\n",
      "--------_abc_impl-----------\n",
      "<_abc._abc_data object at 0x00000230EFC928C0>\n",
      "--------__dataclass_params__-----------\n",
      "_DataclassParams(init=True,repr=True,eq=True,order=False,unsafe_hash=False,frozen=False)\n",
      "--------__dataclass_fields__-----------\n",
      "{'x': Field(name='x',type=<class 'int'>,default=<dataclasses._MISSING_TYPE object at 0x00000230EBAAFA50>,default_factory=<dataclasses._MISSING_TYPE object at 0x00000230EBAAFA50>,init=True,repr=True,hash=None,compare=True,metadata=mappingproxy({}),kw_only=False,_field_type=_FIELD), 'y': Field(name='y',type=<class 'int'>,default=<dataclasses._MISSING_TYPE object at 0x00000230EBAAFA50>,default_factory=<dataclasses._MISSING_TYPE object at 0x00000230EBAAFA50>,init=True,repr=True,hash=None,compare=True,metadata=mappingproxy({}),kw_only=False,_field_type=_FIELD), 'width': Field(name='width',type=<class 'int'>,default=<dataclasses._MISSING_TYPE object at 0x00000230EBAAFA50>,default_factory=<dataclasses._MISSING_TYPE object at 0x00000230EBAAFA50>,init=True,repr=True,hash=None,compare=True,metadata=mappingproxy({}),kw_only=False,_field_type=_FIELD), 'length': Field(name='length',type=<class 'int'>,default=<dataclasses._MISSING_TYPE object at 0x00000230EBAAFA50>,default_factory=<dataclasses._MISSING_TYPE object at 0x00000230EBAAFA50>,init=True,repr=True,hash=None,compare=True,metadata=mappingproxy({}),kw_only=False,_field_type=_FIELD)}\n",
      "--------__init__-----------\n",
      "<function Rectangle.__init__ at 0x00000230EFC68F40>\n",
      "--------__repr__-----------\n",
      "<function Rectangle.__repr__ at 0x00000230EFC69260>\n",
      "--------__eq__-----------\n",
      "<function Rectangle.__eq__ at 0x00000230EFC69300>\n",
      "--------__hash__-----------\n",
      "None\n",
      "--------__match_args__-----------\n",
      "('x', 'y', 'width', 'length')\n"
     ]
    }
   ],
   "execution_count": 16
  },
  {
   "metadata": {},
   "cell_type": "code",
   "outputs": [],
   "execution_count": null,
   "source": "",
   "id": "4713845034f1b32a"
  }
 ],
 "metadata": {
  "kernelspec": {
   "display_name": "Python 3",
   "language": "python",
   "name": "python3"
  },
  "language_info": {
   "codemirror_mode": {
    "name": "ipython",
    "version": 2
   },
   "file_extension": ".py",
   "mimetype": "text/x-python",
   "name": "python",
   "nbconvert_exporter": "python",
   "pygments_lexer": "ipython2",
   "version": "2.7.6"
  }
 },
 "nbformat": 4,
 "nbformat_minor": 5
}
