{
 "cells": [
  {
   "cell_type": "code",
   "id": "initial_id",
   "metadata": {
    "collapsed": true,
    "ExecuteTime": {
     "end_time": "2025-04-22T06:30:41.159527Z",
     "start_time": "2025-04-22T06:30:41.153317Z"
    }
   },
   "source": "import math\n",
   "outputs": [],
   "execution_count": 1
  },
  {
   "metadata": {
    "ExecuteTime": {
     "end_time": "2025-04-22T06:31:07.218387Z",
     "start_time": "2025-04-22T06:31:07.213265Z"
    }
   },
   "cell_type": "code",
   "source": [
    "def circle_area(radius):\n",
    "    return math.pi * radius ** 2"
   ],
   "id": "8cf5c59997048f06",
   "outputs": [],
   "execution_count": 2
  },
  {
   "metadata": {
    "ExecuteTime": {
     "end_time": "2025-04-22T06:31:15.046814Z",
     "start_time": "2025-04-22T06:31:15.040803Z"
    }
   },
   "cell_type": "code",
   "source": "circle_area(23)",
   "id": "3dfc334494123f31",
   "outputs": [
    {
     "data": {
      "text/plain": [
       "1661.9025137490005"
      ]
     },
     "execution_count": 3,
     "metadata": {},
     "output_type": "execute_result"
    }
   ],
   "execution_count": 3
  },
  {
   "metadata": {
    "ExecuteTime": {
     "end_time": "2025-04-22T06:32:22.741838Z",
     "start_time": "2025-04-22T06:32:22.736104Z"
    }
   },
   "cell_type": "code",
   "source": [
    "circle_area\n",
    "\n",
    "circle_area.__class__\n",
    "circle_area.__name__\n"
   ],
   "id": "f496737a6578932e",
   "outputs": [
    {
     "data": {
      "text/plain": [
       "'circle_area'"
      ]
     },
     "execution_count": 7,
     "metadata": {},
     "output_type": "execute_result"
    }
   ],
   "execution_count": 7
  },
  {
   "metadata": {
    "ExecuteTime": {
     "end_time": "2025-04-22T06:33:24.213685Z",
     "start_time": "2025-04-22T06:33:24.207263Z"
    }
   },
   "cell_type": "code",
   "source": [
    "circle_area = lambda radius:math.pi * radius ** 2\n",
    "circle_area"
   ],
   "id": "2233cad40d88eee5",
   "outputs": [
    {
     "data": {
      "text/plain": [
       "<function __main__.<lambda>(radius)>"
      ]
     },
     "execution_count": 10,
     "metadata": {},
     "output_type": "execute_result"
    }
   ],
   "execution_count": 10
  },
  {
   "metadata": {
    "ExecuteTime": {
     "end_time": "2025-04-22T07:16:25.905198Z",
     "start_time": "2025-04-22T07:16:25.897014Z"
    }
   },
   "cell_type": "code",
   "source": [
    "from dataclasses import dataclass\n",
    "\n",
    "@dataclass\n",
    "class Person:\n",
    "    name: str\n",
    "    age: int\n",
    "    weight:int"
   ],
   "id": "c3b0d3aaedf9e2e",
   "outputs": [],
   "execution_count": 12
  },
  {
   "metadata": {
    "ExecuteTime": {
     "end_time": "2025-04-22T07:16:26.101401Z",
     "start_time": "2025-04-22T07:16:26.098202Z"
    }
   },
   "cell_type": "code",
   "source": "",
   "id": "4123f8655544e40e",
   "outputs": [],
   "execution_count": 12
  },
  {
   "metadata": {
    "ExecuteTime": {
     "end_time": "2025-04-22T07:16:26.386561Z",
     "start_time": "2025-04-22T07:16:26.383646Z"
    }
   },
   "cell_type": "code",
   "source": "",
   "id": "7d98341aeafe2eda",
   "outputs": [],
   "execution_count": 12
  },
  {
   "metadata": {},
   "cell_type": "markdown",
   "source": "### map() function",
   "id": "ec79ae94472e91dd"
  },
  {
   "metadata": {
    "ExecuteTime": {
     "end_time": "2025-04-22T07:17:19.473640Z",
     "start_time": "2025-04-22T07:17:19.467767Z"
    }
   },
   "cell_type": "code",
   "source": "list(map(lambda x: x**2, range(10)))",
   "id": "39c12e60330a69b2",
   "outputs": [
    {
     "data": {
      "text/plain": [
       "[0, 1, 4, 9, 16, 25, 36, 49, 64, 81]"
      ]
     },
     "execution_count": 15,
     "metadata": {},
     "output_type": "execute_result"
    }
   ],
   "execution_count": 15
  },
  {
   "metadata": {
    "ExecuteTime": {
     "end_time": "2025-04-22T07:22:08.765671Z",
     "start_time": "2025-04-22T07:22:08.758836Z"
    }
   },
   "cell_type": "code",
   "source": "list(map(print, range(10), range(11), range(4)))",
   "id": "656f47b2ca8a33c7",
   "outputs": [
    {
     "name": "stdout",
     "output_type": "stream",
     "text": [
      "0 0 0\n",
      "1 1 1\n",
      "2 2 2\n",
      "3 3 3\n"
     ]
    },
    {
     "data": {
      "text/plain": [
       "[None, None, None, None]"
      ]
     },
     "execution_count": 21,
     "metadata": {},
     "output_type": "execute_result"
    }
   ],
   "execution_count": 21
  },
  {
   "metadata": {},
   "cell_type": "markdown",
   "source": "### filter() function",
   "id": "967c5bda59c06dc2"
  },
  {
   "metadata": {
    "ExecuteTime": {
     "end_time": "2025-04-22T07:28:06.660212Z",
     "start_time": "2025-04-22T07:28:06.655908Z"
    }
   },
   "cell_type": "code",
   "source": [
    "evens = filter(lambda number:number % 2 == 0, range(10))\n",
    "odds = filter(lambda number: number %2 == 1, range(10))"
   ],
   "id": "8bd1733333bd92e1",
   "outputs": [],
   "execution_count": 22
  },
  {
   "metadata": {
    "ExecuteTime": {
     "end_time": "2025-04-22T07:28:17.653527Z",
     "start_time": "2025-04-22T07:28:17.648526Z"
    }
   },
   "cell_type": "code",
   "source": "list(evens)",
   "id": "5733b7b3f734bb73",
   "outputs": [
    {
     "data": {
      "text/plain": [
       "[0, 2, 4, 6, 8]"
      ]
     },
     "execution_count": 23,
     "metadata": {},
     "output_type": "execute_result"
    }
   ],
   "execution_count": 23
  },
  {
   "metadata": {
    "ExecuteTime": {
     "end_time": "2025-04-22T07:28:33.639663Z",
     "start_time": "2025-04-22T07:28:33.633872Z"
    }
   },
   "cell_type": "code",
   "source": "list(odds)",
   "id": "91e0e999d1b7c43c",
   "outputs": [
    {
     "data": {
      "text/plain": [
       "[1, 3, 5, 7, 9]"
      ]
     },
     "execution_count": 25,
     "metadata": {},
     "output_type": "execute_result"
    }
   ],
   "execution_count": 25
  },
  {
   "metadata": {
    "ExecuteTime": {
     "end_time": "2025-04-22T07:29:03.545565Z",
     "start_time": "2025-04-22T07:29:03.538009Z"
    }
   },
   "cell_type": "code",
   "source": [
    "animals = [\"giraffe\", \"snake\", \"lion\", \"squirrel\"]\n",
    "animals_s = filter(lambda animal: animal.startswith('s'), animals)"
   ],
   "id": "23b511b6505ff00",
   "outputs": [],
   "execution_count": 26
  },
  {
   "metadata": {
    "ExecuteTime": {
     "end_time": "2025-04-22T07:29:08.923914Z",
     "start_time": "2025-04-22T07:29:08.918390Z"
    }
   },
   "cell_type": "code",
   "source": "list(animals_s)",
   "id": "7c89b154963a9a20",
   "outputs": [
    {
     "data": {
      "text/plain": [
       "['snake', 'squirrel']"
      ]
     },
     "execution_count": 27,
     "metadata": {},
     "output_type": "execute_result"
    }
   ],
   "execution_count": 27
  },
  {
   "metadata": {
    "ExecuteTime": {
     "end_time": "2025-04-23T02:10:42.288909Z",
     "start_time": "2025-04-23T02:10:42.282848Z"
    }
   },
   "cell_type": "code",
   "source": "",
   "id": "e22965504dabc52e",
   "outputs": [],
   "execution_count": 27
  },
  {
   "metadata": {
    "ExecuteTime": {
     "end_time": "2025-04-23T02:10:42.371138Z",
     "start_time": "2025-04-23T02:10:42.368022Z"
    }
   },
   "cell_type": "code",
   "source": "",
   "id": "4af9072a9658f146",
   "outputs": [],
   "execution_count": 27
  },
  {
   "metadata": {},
   "cell_type": "markdown",
   "source": "### Partial function ",
   "id": "aa98fae885c1ac4d"
  },
  {
   "metadata": {
    "ExecuteTime": {
     "end_time": "2025-04-23T02:11:01.465430Z",
     "start_time": "2025-04-23T02:11:01.456015Z"
    }
   },
   "cell_type": "code",
   "source": "from functools import partial\n",
   "id": "23ccabaf41b6ea68",
   "outputs": [],
   "execution_count": 28
  },
  {
   "metadata": {
    "ExecuteTime": {
     "end_time": "2025-04-23T02:11:38.675541Z",
     "start_time": "2025-04-23T02:11:38.671286Z"
    }
   },
   "cell_type": "code",
   "source": [
    "def add(a, b):\n",
    "    return a + b\n",
    "\n",
    "partial(add, b=1)(5) \n"
   ],
   "id": "ef0ca49baa6cca4e",
   "outputs": [],
   "execution_count": 29
  },
  {
   "metadata": {
    "ExecuteTime": {
     "end_time": "2025-04-23T02:13:02.778808Z",
     "start_time": "2025-04-23T02:13:02.772749Z"
    }
   },
   "cell_type": "code",
   "source": "",
   "id": "63fefd17d7d28fe0",
   "outputs": [
    {
     "data": {
      "text/plain": [
       "6"
      ]
     },
     "execution_count": 35,
     "metadata": {},
     "output_type": "execute_result"
    }
   ],
   "execution_count": 35
  },
  {
   "metadata": {},
   "cell_type": "code",
   "outputs": [],
   "execution_count": null,
   "source": "",
   "id": "89279928e80823e7"
  }
 ],
 "metadata": {
  "kernelspec": {
   "display_name": "Python 3",
   "language": "python",
   "name": "python3"
  },
  "language_info": {
   "codemirror_mode": {
    "name": "ipython",
    "version": 2
   },
   "file_extension": ".py",
   "mimetype": "text/x-python",
   "name": "python",
   "nbconvert_exporter": "python",
   "pygments_lexer": "ipython2",
   "version": "2.7.6"
  }
 },
 "nbformat": 4,
 "nbformat_minor": 5
}
