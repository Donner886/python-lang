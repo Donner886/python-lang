{
 "cells": [
  {
   "cell_type": "code",
   "execution_count": null,
   "id": "initial_id",
   "metadata": {
    "collapsed": true
   },
   "outputs": [],
   "source": [
    "class UserAccount:\n",
    "    def __init__(self, username, password):\n",
    "        self._username = username\n",
    "        self._password = password\n",
    "    \n",
    "    def get_username(self):\n",
    "        return self._username\n",
    "    \n",
    "    def set_username(self, username):\n",
    "        self._username = username\n",
    "    \n",
    "    def get_password(self):\n",
    "        return  self._password\n",
    "    \n",
    "    def set_password(self, password):\n",
    "        self._password = password"
   ]
  },
  {
   "metadata": {},
   "cell_type": "markdown",
   "source": [
    "Whenever you see code like the above,  which can be recognized by the abundance of get_ and set_ methods, you can be almost 100% sure that you are dealing with a foreign language idiom. \n",
    "\n",
    "** And only when there's an actual need to hide a specific field behind a property, not sooner, an experienced programmer would provide the following modification**"
   ],
   "id": "a248da0db71ca835"
  },
  {
   "metadata": {
    "ExecuteTime": {
     "end_time": "2025-04-09T01:01:56.318610Z",
     "start_time": "2025-04-09T01:01:56.305507Z"
    }
   },
   "cell_type": "code",
   "source": [
    "class UserAccount:\n",
    "    def __init__(self, username, password):\n",
    "        self._username = username\n",
    "        self._password = password\n",
    "    \n",
    "    @property\n",
    "    def password(self):\n",
    "        return self._password\n",
    "    \n",
    "    @password.setter\n",
    "    def password(self, value):\n",
    "        self._password = value"
   ],
   "id": "7b48e1f6717b082c",
   "outputs": [],
   "execution_count": 2
  },
  {
   "metadata": {},
   "cell_type": "code",
   "outputs": [],
   "execution_count": null,
   "source": "",
   "id": "d2f7ba19afa273b3"
  }
 ],
 "metadata": {
  "kernelspec": {
   "display_name": "Python 3",
   "language": "python",
   "name": "python3"
  },
  "language_info": {
   "codemirror_mode": {
    "name": "ipython",
    "version": 2
   },
   "file_extension": ".py",
   "mimetype": "text/x-python",
   "name": "python",
   "nbconvert_exporter": "python",
   "pygments_lexer": "ipython2",
   "version": "2.7.6"
  }
 },
 "nbformat": 4,
 "nbformat_minor": 5
}
