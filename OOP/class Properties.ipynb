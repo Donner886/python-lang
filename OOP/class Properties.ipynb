{
 "cells": [
  {
   "cell_type": "code",
   "execution_count": null,
   "id": "initial_id",
   "metadata": {
    "collapsed": true
   },
   "outputs": [],
   "source": [
    "class UserAccount:\n",
    "    def __init__(self, username, password):\n",
    "        self._username = username\n",
    "        self._password = password\n",
    "    \n",
    "    def get_username(self):\n",
    "        return self._username\n",
    "    \n",
    "    def set_username(self, username):\n",
    "        self._username = username\n",
    "    \n",
    "    def get_password(self):\n",
    "        return  self._password\n",
    "    \n",
    "    def set_password(self, password):\n",
    "        self._password = password"
   ]
  },
  {
   "metadata": {},
   "cell_type": "markdown",
   "source": [
    "Whenever you see code like the above,  which can be recognized by the abundance of get_ and set_ methods, you can be almost 100% sure that you are dealing with a foreign language idiom. \n",
    "\n",
    "** And only when there's an actual need to hide a specific field behind a property, not sooner, an experienced programmer would provide the following modification**"
   ],
   "id": "a248da0db71ca835"
  },
  {
   "metadata": {
    "ExecuteTime": {
     "end_time": "2025-04-09T01:01:56.318610Z",
     "start_time": "2025-04-09T01:01:56.305507Z"
    }
   },
   "cell_type": "code",
   "source": [
    "class UserAccount:\n",
    "    def __init__(self, username, password):\n",
    "        self._username = username\n",
    "        self._password = password\n",
    "    \n",
    "    @property\n",
    "    def password(self):\n",
    "        return self._password\n",
    "    \n",
    "    @password.setter\n",
    "    def password(self, value):\n",
    "        self._password = value"
   ],
   "id": "7b48e1f6717b082c",
   "outputs": [],
   "execution_count": 2
  },
  {
   "metadata": {
    "ExecuteTime": {
     "end_time": "2025-04-14T08:53:45.409588Z",
     "start_time": "2025-04-14T08:53:45.406074Z"
    }
   },
   "cell_type": "code",
   "source": "",
   "id": "d2f7ba19afa273b3",
   "outputs": [],
   "execution_count": null
  },
  {
   "metadata": {
    "ExecuteTime": {
     "end_time": "2025-04-14T10:10:56.938012Z",
     "start_time": "2025-04-14T10:10:56.924013Z"
    }
   },
   "cell_type": "code",
   "source": [
    "class Circle:\n",
    "    def __init__(self, radius):\n",
    "        self._radius = radius  # 私有变量\n",
    "\n",
    "    @property\n",
    "    def radius(self):\n",
    "        \"\"\"Getter: 获取半径\"\"\"\n",
    "        return self._radius\n",
    "\n",
    "    @radius.setter\n",
    "    def radius(self, value):\n",
    "        \"\"\"Setter: 设置半径，并验证值是否有效\"\"\"\n",
    "        if value <= 0:\n",
    "            raise ValueError(\"Radius must be positive\")\n",
    "        self._radius = value\n",
    "\n",
    "    @radius.deleter\n",
    "    def radius(self):\n",
    "        \"\"\"Deleter: 删除半径\"\"\"\n",
    "        print(\"Deleting radius\")\n",
    "        del self._radius\n",
    "\n",
    "\n",
    "# 使用\n",
    "circle = Circle(5)\n",
    "print(circle.radius)  # 调用 getter，输出: 5\n",
    "\n",
    "circle.radius = 10  # 调用 setter\n",
    "print(circle.radius)  # 输出: 10\n",
    "\n",
    "del circle.radius  # 调用 deleter"
   ],
   "id": "3a15eccffb1d4544",
   "outputs": [
    {
     "name": "stdout",
     "output_type": "stream",
     "text": [
      "5\n",
      "10\n",
      "Deleting radius\n"
     ]
    }
   ],
   "execution_count": 12
  },
  {
   "metadata": {
    "ExecuteTime": {
     "end_time": "2025-04-14T10:12:04.355141Z",
     "start_time": "2025-04-14T10:12:04.342144Z"
    }
   },
   "cell_type": "code",
   "source": [
    "class Circle:\n",
    "    def __init__(self, radius):\n",
    "        self._radius = radius\n",
    "\n",
    "    def get_radius(self):\n",
    "        return self._radius\n",
    "\n",
    "    def set_radius(self, value):\n",
    "        if value <= 0:\n",
    "            raise ValueError(\"Radius must be positive\")\n",
    "        self._radius = value\n",
    "\n",
    "    def del_radius(self):\n",
    "        print(\"Deleting radius\")\n",
    "        del self._radius\n",
    "\n",
    "    # 使用 property() 函数\n",
    "    radius = property(get_radius, set_radius, del_radius, \"The radius of the circle\")\n",
    "\n",
    "\n",
    "# 使用\n",
    "circle = Circle(5)\n",
    "print(circle.radius)  # 调用 getter，输出: 5\n",
    "\n",
    "circle.radius = 10  # 调用 setter\n",
    "print(circle.radius)  # 输出: 10\n",
    "\n",
    "del circle.radius  # 调用 deleter"
   ],
   "id": "32de699d3c2e8fce",
   "outputs": [
    {
     "name": "stdout",
     "output_type": "stream",
     "text": [
      "5\n",
      "10\n",
      "Deleting radius\n"
     ]
    }
   ],
   "execution_count": 13
  },
  {
   "metadata": {},
   "cell_type": "code",
   "outputs": [],
   "execution_count": null,
   "source": "",
   "id": "698d9206e1301058"
  },
  {
   "metadata": {},
   "cell_type": "code",
   "outputs": [],
   "execution_count": null,
   "source": "",
   "id": "74788e7ae31084a2"
  },
  {
   "metadata": {},
   "cell_type": "code",
   "outputs": [],
   "execution_count": null,
   "source": "",
   "id": "88bbcec44266c1d3"
  },
  {
   "metadata": {},
   "cell_type": "markdown",
   "source": [
    "    \n",
    "    Here is an example of Rectangle class that can be controlled either by direct access to  attributes  that store two corner points \n",
    "    or by using the width and height properties: \n",
    "   "
   ],
   "id": "8ceccf01d131c673"
  },
  {
   "metadata": {
    "ExecuteTime": {
     "end_time": "2025-04-14T09:26:08.024018Z",
     "start_time": "2025-04-14T09:26:08.014002Z"
    }
   },
   "cell_type": "code",
   "source": [
    "class Rectangle:\n",
    "    def __init__(self, x1, y1, x2, y2):\n",
    "        self.x1, self.y1  = x1, y1\n",
    "        self.x2, self.y2 = x2, y2\n",
    "        \n",
    "    def _width_get(self):\n",
    "        return self.x1 - self.x2\n",
    "    \n",
    "    def _width_set(self,value):\n",
    "        self.x2 = self.x1 + value\n",
    "        \n",
    "    def _height_get(self):\n",
    "        return self.y1 - self.y2\n",
    "    \n",
    "    def _height_set(self, value):\n",
    "        self.y2 = self.y1 + value\n",
    "        \n",
    "    width = property(\n",
    "        _width_get,\n",
    "        _width_set,\n",
    "        doc=\"rectangle width measured from left\"\n",
    "                     )\n",
    "    height = property(\n",
    "        _height_get,\n",
    "        _height_set,\n",
    "        doc=\"rectangle height measured from top\"\n",
    "    )\n",
    "    \n",
    "    def __repr__(self):\n",
    "        return \"{}({},{},{},{})\".format(self.__class__.__name__,\n",
    "                                        self.x1, self.x2, \n",
    "                                        self.y1, self.y2\n",
    "        )"
   ],
   "id": "f0e02925ea07c5b0",
   "outputs": [],
   "execution_count": 3
  },
  {
   "metadata": {
    "ExecuteTime": {
     "end_time": "2025-04-14T09:28:26.635510Z",
     "start_time": "2025-04-14T09:28:26.629485Z"
    }
   },
   "cell_type": "code",
   "source": "rectangle = Rectangle(30,30,12,23)",
   "id": "c4a3e10b06a166e6",
   "outputs": [],
   "execution_count": 9
  },
  {
   "metadata": {
    "ExecuteTime": {
     "end_time": "2025-04-14T09:28:27.068142Z",
     "start_time": "2025-04-14T09:28:27.060251Z"
    }
   },
   "cell_type": "code",
   "source": "rectangle.width",
   "id": "ab35cb5d7bda67ba",
   "outputs": [
    {
     "data": {
      "text/plain": [
       "18"
      ]
     },
     "execution_count": 10,
     "metadata": {},
     "output_type": "execute_result"
    }
   ],
   "execution_count": 10
  },
  {
   "metadata": {
    "ExecuteTime": {
     "end_time": "2025-04-14T09:28:57.554951Z",
     "start_time": "2025-04-14T09:28:57.546954Z"
    }
   },
   "cell_type": "code",
   "source": "help(Rectangle)",
   "id": "45da525894b3d18",
   "outputs": [
    {
     "name": "stdout",
     "output_type": "stream",
     "text": [
      "Help on class Rectangle in module __main__:\n",
      "\n",
      "class Rectangle(builtins.object)\n",
      " |  Rectangle(x1, y1, x2, y2)\n",
      " |  \n",
      " |  Methods defined here:\n",
      " |  \n",
      " |  __init__(self, x1, y1, x2, y2)\n",
      " |      Initialize self.  See help(type(self)) for accurate signature.\n",
      " |  \n",
      " |  __repr__(self)\n",
      " |      Return repr(self).\n",
      " |  \n",
      " |  ----------------------------------------------------------------------\n",
      " |  Data descriptors defined here:\n",
      " |  \n",
      " |  __dict__\n",
      " |      dictionary for instance variables\n",
      " |  \n",
      " |  __weakref__\n",
      " |      list of weak references to the object\n",
      " |  \n",
      " |  height\n",
      " |      rectangle height measured from top\n",
      " |  \n",
      " |  width\n",
      " |      rectangle width measured from left\n",
      "\n"
     ]
    }
   ],
   "execution_count": 11
  },
  {
   "metadata": {},
   "cell_type": "code",
   "outputs": [],
   "execution_count": null,
   "source": "",
   "id": "d9832bfa415ca29"
  }
 ],
 "metadata": {
  "kernelspec": {
   "display_name": "Python 3",
   "language": "python",
   "name": "python3"
  },
  "language_info": {
   "codemirror_mode": {
    "name": "ipython",
    "version": 2
   },
   "file_extension": ".py",
   "mimetype": "text/x-python",
   "name": "python",
   "nbconvert_exporter": "python",
   "pygments_lexer": "ipython2",
   "version": "2.7.6"
  }
 },
 "nbformat": 4,
 "nbformat_minor": 5
}
