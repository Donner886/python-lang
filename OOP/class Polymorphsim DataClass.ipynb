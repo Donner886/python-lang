{
 "cells": [
  {
   "metadata": {
    "ExecuteTime": {
     "end_time": "2025-04-21T05:17:34.407853Z",
     "start_time": "2025-04-21T05:17:34.402344Z"
    }
   },
   "cell_type": "code",
   "source": [
    "from dataclasses import dataclass\n",
    "\n",
    "@dataclass\n",
    "class User:\n",
    "    name: str\n",
    "    age: int\n",
    "    className: str\n",
    "\n",
    "\n",
    "jimmy = User(name='Jimmy', age=12, className='class A')\n"
   ],
   "id": "699518cfe1c98684",
   "outputs": [],
   "execution_count": 6
  },
  {
   "metadata": {
    "ExecuteTime": {
     "end_time": "2025-04-21T05:17:38.269030Z",
     "start_time": "2025-04-21T05:17:38.261377Z"
    }
   },
   "cell_type": "code",
   "source": "print(jimmy)",
   "id": "88d7f8bfac20345",
   "outputs": [
    {
     "name": "stdout",
     "output_type": "stream",
     "text": [
      "User(name='Jimmy', age=12, className='class A')\n"
     ]
    }
   ],
   "execution_count": 7
  },
  {
   "metadata": {
    "ExecuteTime": {
     "end_time": "2025-04-21T05:26:45.937838Z",
     "start_time": "2025-04-21T05:26:45.932238Z"
    }
   },
   "cell_type": "code",
   "source": "",
   "id": "b66df96500f67356",
   "outputs": [],
   "execution_count": 7
  },
  {
   "metadata": {
    "ExecuteTime": {
     "end_time": "2025-04-21T05:30:22.747923Z",
     "start_time": "2025-04-21T05:30:22.742631Z"
    }
   },
   "cell_type": "code",
   "source": [
    "from dataclasses import dataclass, field\n",
    "from typing import List\n",
    "\n",
    "@dataclass\n",
    "class Config:\n",
    "    name: str = \"default\"\n",
    "    values: list = field(default_factory=list)\n",
    "\n",
    "config = Config()\n",
    "print(config)  # 输出：Config(name='default', values=[])"
   ],
   "id": "8d2f6d4b878be78c",
   "outputs": [
    {
     "name": "stdout",
     "output_type": "stream",
     "text": [
      "Config(name='default', values=[])\n"
     ]
    }
   ],
   "execution_count": 11
  },
  {
   "metadata": {
    "ExecuteTime": {
     "end_time": "2025-04-21T05:30:59.632145Z",
     "start_time": "2025-04-21T05:30:59.628648Z"
    }
   },
   "cell_type": "code",
   "source": "config2 = Config(None, [2,34,5,2])",
   "id": "6734d5c2a136ca77",
   "outputs": [],
   "execution_count": 14
  },
  {
   "metadata": {
    "ExecuteTime": {
     "end_time": "2025-04-21T05:31:00.109970Z",
     "start_time": "2025-04-21T05:31:00.104451Z"
    }
   },
   "cell_type": "code",
   "source": "config2",
   "id": "e1c73262bf903576",
   "outputs": [
    {
     "data": {
      "text/plain": [
       "Config(name=None, values=[2, 34, 5, 2])"
      ]
     },
     "execution_count": 15,
     "metadata": {},
     "output_type": "execute_result"
    }
   ],
   "execution_count": 15
  },
  {
   "metadata": {},
   "cell_type": "code",
   "outputs": [],
   "execution_count": null,
   "source": "",
   "id": "9d72458d3823aacc"
  }
 ],
 "metadata": {
  "kernelspec": {
   "display_name": "Python 3",
   "language": "python",
   "name": "python3"
  },
  "language_info": {
   "codemirror_mode": {
    "name": "ipython",
    "version": 2
   },
   "file_extension": ".py",
   "mimetype": "text/x-python",
   "name": "python",
   "nbconvert_exporter": "python",
   "pygments_lexer": "ipython2",
   "version": "2.7.6"
  }
 },
 "nbformat": 4,
 "nbformat_minor": 5
}
