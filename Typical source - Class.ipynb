{
 "cells": [
  {
   "cell_type": "code",
   "id": "initial_id",
   "metadata": {
    "collapsed": true,
    "ExecuteTime": {
     "end_time": "2025-01-08T13:44:12.472528Z",
     "start_time": "2025-01-08T13:44:12.468520Z"
    }
   },
   "source": [
    "try:\n",
    "    import customerLibrary\n",
    "except ImportError:\n",
    "    customerLibrary = None\n"
   ],
   "outputs": [],
   "execution_count": 1
  },
  {
   "metadata": {
    "ExecuteTime": {
     "end_time": "2025-01-08T13:46:05.843522Z",
     "start_time": "2025-01-08T13:46:05.839521Z"
    }
   },
   "cell_type": "code",
   "source": [
    "class Custom:\n",
    "    if customerLibrary is not None:\n",
    "        hasLibrary = True\n",
    "    else:\n",
    "        hasLibrary = False\n"
   ],
   "id": "1019abebcb8d1fe5",
   "outputs": [],
   "execution_count": 2
  },
  {
   "metadata": {
    "ExecuteTime": {
     "end_time": "2025-01-08T13:56:31.767781Z",
     "start_time": "2025-01-08T13:56:31.762046Z"
    }
   },
   "cell_type": "code",
   "source": "Custom.hasLibrary ",
   "id": "ab63510b48b59294",
   "outputs": [
    {
     "data": {
      "text/plain": [
       "False"
      ]
     },
     "execution_count": 4,
     "metadata": {},
     "output_type": "execute_result"
    }
   ],
   "execution_count": 4
  },
  {
   "metadata": {
    "ExecuteTime": {
     "end_time": "2025-01-08T13:56:54.079662Z",
     "start_time": "2025-01-08T13:56:54.075664Z"
    }
   },
   "cell_type": "code",
   "source": [
    "class Egg(int):\n",
    "    spam = 'egg'"
   ],
   "id": "966c70aa8e2944e5",
   "outputs": [],
   "execution_count": 5
  },
  {
   "metadata": {
    "ExecuteTime": {
     "end_time": "2025-01-08T13:56:56.546672Z",
     "start_time": "2025-01-08T13:56:56.541672Z"
    }
   },
   "cell_type": "code",
   "source": "Egg",
   "id": "7725fbfea50faa06",
   "outputs": [
    {
     "data": {
      "text/plain": [
       "__main__.Egg"
      ]
     },
     "execution_count": 6,
     "metadata": {},
     "output_type": "execute_result"
    }
   ],
   "execution_count": 6
  },
  {
   "metadata": {},
   "cell_type": "markdown",
   "source": "## 元类",
   "id": "d3e9e9d213b8ca77"
  },
  {
   "metadata": {
    "ExecuteTime": {
     "end_time": "2025-01-08T15:01:32.063146Z",
     "start_time": "2025-01-08T15:01:32.057867Z"
    }
   },
   "cell_type": "code",
   "source": [
    "class PluginMount(type):\n",
    "    \"\"\"\n",
    "    Place the metaclass (元類) on any standard python to turn it into a plugin mount point.\n",
    "    All subclass will be automatically registered as plugins.\n",
    "    在python中， 元类是创建类的类。当你定义一个元类的时，__init__(cls) 方法的第一个参数是cls，而不是self, \n",
    "    这是因为__init__方法实在创建类的过程中被调用而不是在类的实例化过程中。 \n",
    "    \n",
    "    \"\"\"\n",
    "    def __init__(cls, name, bases, attrs):\n",
    "        if not hasattr(cls, 'plugins'):\n",
    "            cls.plugins = []\n",
    "        else:\n",
    "            cls.plugins.append(cls)"
   ],
   "id": "916f7a6df102066",
   "outputs": [],
   "execution_count": 12
  },
  {
   "metadata": {
    "ExecuteTime": {
     "end_time": "2025-01-08T15:01:45.187946Z",
     "start_time": "2025-01-08T15:01:45.182550Z"
    }
   },
   "cell_type": "code",
   "source": [
    "class InputValidator(metaclass=PluginMount):\n",
    "    \"\"\"\n",
    "    A plugin mount for input validation.\n",
    "    Supported plugins must provide a validate(self, input) method, \n",
    "    which receives input as string and raises a ValueError if the \n",
    "    input was invalid. if the input was properly valid, it should just\n",
    "    return without error. any return value will be ignored.\n",
    "\n",
    "    \"\"\"\n",
    "    def validator(self, input):\n",
    "        \"\"\"\n",
    "        the default implementation raise a NotImpementationError\n",
    "        to ensure that any subclasses must override this method.\n",
    "        :param input: \n",
    "        :return: \n",
    "        \"\"\"\n",
    "        raise NotImplementedError\n",
    "    "
   ],
   "id": "6babc47ffdc39775",
   "outputs": [],
   "execution_count": 13
  },
  {
   "metadata": {
    "ExecuteTime": {
     "end_time": "2025-01-08T15:01:58.198930Z",
     "start_time": "2025-01-08T15:01:58.195600Z"
    }
   },
   "cell_type": "code",
   "source": [
    "class ASCIIValidator(InputValidator):\n",
    "    \"\"\"\n",
    "    validate the input only consists of valid ASCII characters.\n",
    "    \"\"\"\n",
    "    def validator(self, input):\n",
    "        \"\"\"\n",
    "        if the encoding operation fails, str.encode() will raise a UncodeDecoeError\n",
    "        :param input: \n",
    "        :return: \n",
    "        \"\"\"\n",
    "        input.encode('ascii')\n",
    "        "
   ],
   "id": "adade1d0ac96a259",
   "outputs": [],
   "execution_count": 14
  },
  {
   "metadata": {
    "ExecuteTime": {
     "end_time": "2025-01-08T15:02:08.586852Z",
     "start_time": "2025-01-08T15:02:08.581391Z"
    }
   },
   "cell_type": "code",
   "source": "InputValidator.plugins",
   "id": "e6cacfec025683d8",
   "outputs": [
    {
     "data": {
      "text/plain": [
       "[__main__.ASCIIValidator]"
      ]
     },
     "execution_count": 15,
     "metadata": {},
     "output_type": "execute_result"
    }
   ],
   "execution_count": 15
  },
  {
   "metadata": {},
   "cell_type": "code",
   "outputs": [],
   "execution_count": null,
   "source": "",
   "id": "92187e5a5b6750c6"
  },
  {
   "metadata": {},
   "cell_type": "code",
   "outputs": [],
   "execution_count": null,
   "source": "",
   "id": "ded47cfd50f68910"
  },
  {
   "metadata": {
    "ExecuteTime": {
     "end_time": "2025-01-09T10:21:09.381864Z",
     "start_time": "2025-01-09T10:21:09.377522Z"
    }
   },
   "cell_type": "code",
   "source": [
    "class MyMeta(type):\n",
    "    def __init__(cls, name, bases, attrs):\n",
    "        print(f'Creating class: {name}')\n",
    "        \"\"\"\n",
    "        super().__init__(name, bases, attrs)的作用是调用父类的__init__方法，\n",
    "        确保父类（在这里是type类）的初始化逻辑被执行。这是一个重要的步骤，通常在自定义类时需要确保基类的初始化代码能够正确执行，以便为新创建的类提供必要的属性和行为。\n",
    "        \n",
    "        1， 确保基类初始化：当你定义一个元类时，它是继承自type类的。调用super().__init__(name, bases, attrs)可以确保type类的初始化逻辑被调用，这样Python的类系统能够为新类设置好必要的基础设施。\n",
    "\n",
    "        2， 维护多重继承：在Python中，super()可以帮助你处理多重继承的情况。它会按照方法解析顺序（MRO）来查找下一个合适的类，从而确保正确调用各个基类的方法。这一特性在复杂的继承结构中尤其重要。\n",
    "        \n",
    "        3， 扩展功能：虽然在这个简单的元类示例中，super().__init__只是调用了基础类的初始化方法，但在更复杂的元类中，你可能需要在重写的__init__方法中添加额外的逻辑，同时也希望保留基类的初始化行为。通过使用super()可以很方便地做到这一点。\n",
    "        \n",
    "        总之，super().__init__(name, bases, attrs)的调用是为了确保元类的父类type的初始化过程能够被正确执行，从而使得创建的类能够正常工作，并具备Python类的基本特性。\n",
    "\n",
    "        \"\"\"\n",
    "        super().__init__(name, bases, attrs)\n",
    "        "
   ],
   "id": "6dcd686c60dcb1e8",
   "outputs": [],
   "execution_count": 19
  },
  {
   "metadata": {
    "ExecuteTime": {
     "end_time": "2025-01-09T10:21:10.116095Z",
     "start_time": "2025-01-09T10:21:10.111062Z"
    }
   },
   "cell_type": "code",
   "source": [
    "class MyClass(metaclass=MyMeta):\n",
    "    pass\n"
   ],
   "id": "2fce47d6da115f2c",
   "outputs": [
    {
     "name": "stdout",
     "output_type": "stream",
     "text": [
      "Creating class: MyClass\n"
     ]
    }
   ],
   "execution_count": 20
  },
  {
   "metadata": {},
   "cell_type": "markdown",
   "source": "     ",
   "id": "981ae54676b63eac"
  },
  {
   "metadata": {},
   "cell_type": "markdown",
   "source": "-------------",
   "id": "22a98cc051d23ee"
  },
  {
   "metadata": {},
   "cell_type": "markdown",
   "source": [
    "###   属性\n",
    "    1， 类属性\n",
    "    2， 对象属性\n",
    "    3,  描述符\n",
    "    "
   ],
   "id": "103e6e536f1f35d7"
  },
  {
   "metadata": {
    "ExecuteTime": {
     "end_time": "2025-01-09T13:57:42.372667Z",
     "start_time": "2025-01-09T13:57:42.353552Z"
    }
   },
   "cell_type": "code",
   "source": [
    "class Person:\n",
    "    species = 'Hello Cat!!'  ## 类属性\n",
    "    \n",
    "    def __init__(self, name):\n",
    "        self.name = name\n",
    "print(Person.species)"
   ],
   "id": "5e5d71351fc910c8",
   "outputs": [
    {
     "name": "stdout",
     "output_type": "stream",
     "text": [
      "Hello Cat!!\n"
     ]
    }
   ],
   "execution_count": 51
  },
  {
   "metadata": {
    "ExecuteTime": {
     "end_time": "2025-01-09T13:58:14.618136Z",
     "start_time": "2025-01-09T13:58:14.612203Z"
    }
   },
   "cell_type": "code",
   "source": "Person.__dict__",
   "id": "1e8a5c0d8d4949c9",
   "outputs": [
    {
     "data": {
      "text/plain": [
       "mappingproxy({'__module__': '__main__',\n",
       "              'species': 'Hello Cat!!',\n",
       "              '__init__': <function __main__.Person.__init__(self, name)>,\n",
       "              '__dict__': <attribute '__dict__' of 'Person' objects>,\n",
       "              '__weakref__': <attribute '__weakref__' of 'Person' objects>,\n",
       "              '__doc__': None})"
      ]
     },
     "execution_count": 52,
     "metadata": {},
     "output_type": "execute_result"
    }
   ],
   "execution_count": 52
  },
  {
   "metadata": {
    "ExecuteTime": {
     "end_time": "2025-01-09T13:58:59.879603Z",
     "start_time": "2025-01-09T13:58:59.864869Z"
    }
   },
   "cell_type": "code",
   "source": "person = Person('dong')",
   "id": "b4b0e2e4b9301d30",
   "outputs": [],
   "execution_count": 54
  },
  {
   "metadata": {
    "ExecuteTime": {
     "end_time": "2025-01-09T13:59:01.127346Z",
     "start_time": "2025-01-09T13:59:01.122788Z"
    }
   },
   "cell_type": "code",
   "source": "person.__dict__",
   "id": "de12bfe3fb8589de",
   "outputs": [
    {
     "data": {
      "text/plain": [
       "{'name': 'dong'}"
      ]
     },
     "execution_count": 55,
     "metadata": {},
     "output_type": "execute_result"
    }
   ],
   "execution_count": 55
  },
  {
   "metadata": {
    "ExecuteTime": {
     "end_time": "2025-01-09T13:59:43.982119Z",
     "start_time": "2025-01-09T13:59:43.978601Z"
    }
   },
   "cell_type": "code",
   "source": "   ",
   "id": "323cc53ebfb78ea4",
   "outputs": [],
   "execution_count": 55
  },
  {
   "metadata": {},
   "cell_type": "markdown",
   "source": "            ---- 描述符",
   "id": "3dd20dda2c3cd132"
  },
  {
   "metadata": {
    "ExecuteTime": {
     "end_time": "2025-01-09T14:02:31.412909Z",
     "start_time": "2025-01-09T14:02:31.408150Z"
    }
   },
   "cell_type": "code",
   "source": [
    "class NameDescriptor:\n",
    "    def __init__(self, name):\n",
    "        self.name = name\n",
    "    \n",
    "    def __get__(self, instance, owner):\n",
    "        \"\"\"\n",
    "        :param instance:  拥有描述符的实例（在这个例子中是 obj）\n",
    "        :param owner:  拥有描述符的类（在这个例子中是 MyClass）\n",
    "        :return: \n",
    "        \"\"\"    \n",
    "        print(f'Getting: {self.name}')\n",
    "        return instance.__dict__[self.name]\n",
    "    \n",
    "    def __set__(self, instance, value): \n",
    "        print(f'Setting: {self.name} to {value}') \n",
    "        if not isinstance(value, str):\n",
    "            raise ValueError('Name must be a string')\n",
    "        instance.__dict__[self.name] = value\n",
    "    \n",
    "    def __delete__(self, instance):\n",
    "        del instance.__dict__[self.name]\n",
    "    "
   ],
   "id": "76c9aef8943d6f86",
   "outputs": [],
   "execution_count": 57
  },
  {
   "metadata": {
    "ExecuteTime": {
     "end_time": "2025-01-09T14:05:43.609106Z",
     "start_time": "2025-01-09T14:05:43.593847Z"
    }
   },
   "cell_type": "code",
   "source": [
    "class MyClass:\n",
    "    name = NameDescriptor('name')\n",
    "    \n",
    "    def __init__(self, name):\n",
    "        self.name = name\n",
    "        \n",
    "            "
   ],
   "id": "424a9af79ae08bd",
   "outputs": [],
   "execution_count": 58
  },
  {
   "metadata": {
    "ExecuteTime": {
     "end_time": "2025-01-09T14:06:01.151763Z",
     "start_time": "2025-01-09T14:06:01.148427Z"
    }
   },
   "cell_type": "code",
   "source": "dong = MyClass('dong')",
   "id": "5e02ece2a4e48ece",
   "outputs": [
    {
     "name": "stdout",
     "output_type": "stream",
     "text": [
      "Setting: name to dong\n"
     ]
    }
   ],
   "execution_count": 60
  },
  {
   "metadata": {
    "ExecuteTime": {
     "end_time": "2025-01-09T14:06:16.849961Z",
     "start_time": "2025-01-09T14:06:16.841474Z"
    }
   },
   "cell_type": "code",
   "source": "dong.name",
   "id": "fd77219eb864756e",
   "outputs": [
    {
     "name": "stdout",
     "output_type": "stream",
     "text": [
      "Getting: name\n"
     ]
    },
    {
     "data": {
      "text/plain": [
       "'dong'"
      ]
     },
     "execution_count": 61,
     "metadata": {},
     "output_type": "execute_result"
    }
   ],
   "execution_count": 61
  },
  {
   "metadata": {},
   "cell_type": "markdown",
   "source": "    ",
   "id": "e8a521ceade6e204"
  },
  {
   "metadata": {},
   "cell_type": "markdown",
   "source": "- --------------------",
   "id": "1e8f03cc5bafcbf0"
  },
  {
   "metadata": {},
   "cell_type": "markdown",
   "source": "### 如果在编写程序的时候， 不知道成员变量的名称，可以使用内置的getAttr()函数为名称提供变量。  ",
   "id": "360e8f62bf437bc4"
  },
  {
   "metadata": {},
   "cell_type": "markdown",
   "source": "",
   "id": "ad70e9c6b559a165"
  },
  {
   "metadata": {
    "ExecuteTime": {
     "end_time": "2025-01-13T11:17:47.986915Z",
     "start_time": "2025-01-13T11:17:47.980915Z"
    }
   },
   "cell_type": "code",
   "source": [
    "class MyClass:\n",
    "    def __init__(self):\n",
    "        self.value = 43\n",
    "        \n",
    "    def __getattr__(self, item):\n",
    "        return f'{item} attibute is not present.'\n"
   ],
   "id": "2a734f19d414f08c",
   "outputs": [],
   "execution_count": 6
  },
  {
   "metadata": {
    "ExecuteTime": {
     "end_time": "2025-01-13T11:17:50.393878Z",
     "start_time": "2025-01-13T11:17:50.390652Z"
    }
   },
   "cell_type": "code",
   "source": "obj = MyClass()",
   "id": "fde484079d66d473",
   "outputs": [],
   "execution_count": 7
  },
  {
   "metadata": {
    "ExecuteTime": {
     "end_time": "2025-01-13T11:39:06.940815Z",
     "start_time": "2025-01-13T11:39:06.936233Z"
    }
   },
   "cell_type": "code",
   "source": "str(obj)",
   "id": "8ef1804774a82f56",
   "outputs": [
    {
     "data": {
      "text/plain": [
       "'<__main__.MyClass object at 0x0000020136ADEE10>'"
      ]
     },
     "execution_count": 23,
     "metadata": {},
     "output_type": "execute_result"
    }
   ],
   "execution_count": 23
  },
  {
   "metadata": {
    "ExecuteTime": {
     "end_time": "2025-01-13T11:17:51.100692Z",
     "start_time": "2025-01-13T11:17:51.094442Z"
    }
   },
   "cell_type": "code",
   "source": "getattr(obj, 'value')",
   "id": "97a1d27cf5f2ab7c",
   "outputs": [
    {
     "data": {
      "text/plain": [
       "43"
      ]
     },
     "execution_count": 8,
     "metadata": {},
     "output_type": "execute_result"
    }
   ],
   "execution_count": 8
  },
  {
   "metadata": {
    "ExecuteTime": {
     "end_time": "2025-01-13T11:17:51.687454Z",
     "start_time": "2025-01-13T11:17:51.682947Z"
    }
   },
   "cell_type": "code",
   "source": "getattr(obj, 'non_existed_value')\n",
   "id": "147f4f2521b58c5b",
   "outputs": [
    {
     "data": {
      "text/plain": [
       "'non_existed_value attibute is not present.'"
      ]
     },
     "execution_count": 9,
     "metadata": {},
     "output_type": "execute_result"
    }
   ],
   "execution_count": 9
  },
  {
   "metadata": {
    "ExecuteTime": {
     "end_time": "2025-01-13T11:17:52.319494Z",
     "start_time": "2025-01-13T11:17:52.315517Z"
    }
   },
   "cell_type": "code",
   "source": "getattr(obj, 'non_existed_value', 34)",
   "id": "425d5cb49d33e719",
   "outputs": [
    {
     "data": {
      "text/plain": [
       "'non_existed_value attibute is not present.'"
      ]
     },
     "execution_count": 10,
     "metadata": {},
     "output_type": "execute_result"
    }
   ],
   "execution_count": 10
  },
  {
   "metadata": {
    "ExecuteTime": {
     "end_time": "2025-01-13T11:18:17.932772Z",
     "start_time": "2025-01-13T11:18:17.927824Z"
    }
   },
   "cell_type": "code",
   "source": "obj.non_existed_attr",
   "id": "c096a8b847139c08",
   "outputs": [
    {
     "data": {
      "text/plain": [
       "'non_existed_attr attibute is not present.'"
      ]
     },
     "execution_count": 11,
     "metadata": {},
     "output_type": "execute_result"
    }
   ],
   "execution_count": 11
  },
  {
   "metadata": {
    "ExecuteTime": {
     "end_time": "2025-01-13T11:18:25.995437Z",
     "start_time": "2025-01-13T11:18:25.991375Z"
    }
   },
   "cell_type": "code",
   "source": "obj.value",
   "id": "e0b360a64a5b947a",
   "outputs": [
    {
     "data": {
      "text/plain": [
       "43"
      ]
     },
     "execution_count": 12,
     "metadata": {},
     "output_type": "execute_result"
    }
   ],
   "execution_count": 12
  },
  {
   "metadata": {
    "ExecuteTime": {
     "end_time": "2025-01-13T11:24:51.570227Z",
     "start_time": "2025-01-13T11:24:51.566351Z"
    }
   },
   "cell_type": "code",
   "source": [
    "class AttibuteDict(dict):\n",
    "    def __getattr__(self, item):\n",
    "        return self[item]"
   ],
   "id": "6b198085b1ab589b",
   "outputs": [],
   "execution_count": 13
  },
  {
   "metadata": {
    "ExecuteTime": {
     "end_time": "2025-01-13T11:26:24.856948Z",
     "start_time": "2025-01-13T11:26:24.854103Z"
    }
   },
   "cell_type": "code",
   "source": "d = AttibuteDict(spam='eggs')",
   "id": "7e771c6c0b625c7",
   "outputs": [],
   "execution_count": 15
  },
  {
   "metadata": {
    "ExecuteTime": {
     "end_time": "2025-01-13T11:26:31.706838Z",
     "start_time": "2025-01-13T11:26:31.702952Z"
    }
   },
   "cell_type": "code",
   "source": "d['spam']",
   "id": "c73f03020be04522",
   "outputs": [
    {
     "data": {
      "text/plain": [
       "'eggs'"
      ]
     },
     "execution_count": 16,
     "metadata": {},
     "output_type": "execute_result"
    }
   ],
   "execution_count": 16
  },
  {
   "metadata": {
    "ExecuteTime": {
     "end_time": "2025-01-13T11:38:36.923993Z",
     "start_time": "2025-01-13T11:38:36.918492Z"
    }
   },
   "cell_type": "code",
   "source": "d",
   "id": "16eb61fe345ec83d",
   "outputs": [
    {
     "data": {
      "text/plain": [
       "{'spam': 'eggs'}"
      ]
     },
     "execution_count": 21,
     "metadata": {},
     "output_type": "execute_result"
    }
   ],
   "execution_count": 21
  },
  {
   "metadata": {
    "ExecuteTime": {
     "end_time": "2025-01-13T11:50:06.284009Z",
     "start_time": "2025-01-13T11:50:06.279010Z"
    }
   },
   "cell_type": "code",
   "source": [
    "class MyClass:\n",
    "    def __init__(self, value):\n",
    "        self.value = value\n",
    "\n",
    "    def __repr__(self):\n",
    "        return f\"MyClass(value={self.value!r})\"\n",
    "\n",
    "obj = MyClass(42)\n"
   ],
   "id": "9ef1d447f55721b0",
   "outputs": [],
   "execution_count": 25
  },
  {
   "metadata": {
    "ExecuteTime": {
     "end_time": "2025-01-13T11:50:10.886603Z",
     "start_time": "2025-01-13T11:50:10.881591Z"
    }
   },
   "cell_type": "code",
   "source": "obj",
   "id": "be6596a78dac9e98",
   "outputs": [
    {
     "data": {
      "text/plain": [
       "MyClass(value=42)"
      ]
     },
     "execution_count": 26,
     "metadata": {},
     "output_type": "execute_result"
    }
   ],
   "execution_count": 26
  },
  {
   "metadata": {},
   "cell_type": "code",
   "outputs": [],
   "execution_count": null,
   "source": "",
   "id": "4a7bb2c1b31991dc"
  }
 ],
 "metadata": {
  "kernelspec": {
   "display_name": "Python 3",
   "language": "python",
   "name": "python3"
  },
  "language_info": {
   "codemirror_mode": {
    "name": "ipython",
    "version": 2
   },
   "file_extension": ".py",
   "mimetype": "text/x-python",
   "name": "python",
   "nbconvert_exporter": "python",
   "pygments_lexer": "ipython2",
   "version": "2.7.6"
  }
 },
 "nbformat": 4,
 "nbformat_minor": 5
}
