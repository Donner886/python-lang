{
 "cells": [
  {
   "metadata": {
    "ExecuteTime": {
     "end_time": "2025-02-11T01:57:28.270209Z",
     "start_time": "2025-02-11T01:57:28.264043Z"
    }
   },
   "cell_type": "code",
   "source": [
    "\n",
    "# 示例文件路径列表\n",
    "src_files = ['./docs/doc1.pdf', './docs/doc2.pdf',\n",
    "              './docs/doc3.pdf']\n",
    "\n",
    "# 合并后的输出文件路径\n",
    "dest_file = './docs/merged_document.pdf'\n"
   ],
   "id": "10e1193e8d4661a7",
   "outputs": [],
   "execution_count": 1
  },
  {
   "metadata": {
    "ExecuteTime": {
     "end_time": "2025-02-10T13:37:11.215340Z",
     "start_time": "2025-02-10T13:37:11.101963Z"
    }
   },
   "cell_type": "code",
   "source": [
    "from PyPDF2 import PdfMerger\n",
    "\n",
    "def merge_pdfs(src_files, dest_file):\n",
    "    # Create a PdfMerger object\n",
    "    merger = PdfMerger()\n",
    "\n",
    "    # Append each PDF file to the merger\n",
    "    for pdf in src_files:\n",
    "        merger.append(pdf)\n",
    "\n",
    "    # Write the merged PDF to the destination file\n",
    "    merger.write(dest_file)\n",
    "\n",
    "    # Close the merger\n",
    "    merger.close()\n",
    "\n",
    "# Merge the PDFs\n",
    "merge_pdfs(src_files, dest_file)\n",
    "\n",
    "print(f\"Merged PDF saved as {dest_file}\")"
   ],
   "id": "28622038960f908f",
   "outputs": [
    {
     "name": "stdout",
     "output_type": "stream",
     "text": [
      "Merged PDF saved as ./docs/merged_document.pdf\n"
     ]
    }
   ],
   "execution_count": 27
  },
  {
   "metadata": {
    "ExecuteTime": {
     "end_time": "2025-02-11T02:00:17.971168Z",
     "start_time": "2025-02-11T02:00:17.957962Z"
    }
   },
   "cell_type": "code",
   "source": "from tqdm import tqdm",
   "id": "918a62f6ccd50a3",
   "outputs": [],
   "execution_count": 2
  },
  {
   "metadata": {},
   "cell_type": "code",
   "outputs": [],
   "execution_count": null,
   "source": "",
   "id": "7c0bcc342d9c301e"
  }
 ],
 "metadata": {
  "kernelspec": {
   "display_name": "Python 3",
   "language": "python",
   "name": "python3"
  },
  "language_info": {
   "codemirror_mode": {
    "name": "ipython",
    "version": 2
   },
   "file_extension": ".py",
   "mimetype": "text/x-python",
   "name": "python",
   "nbconvert_exporter": "python",
   "pygments_lexer": "ipython2",
   "version": "2.7.6"
  }
 },
 "nbformat": 4,
 "nbformat_minor": 5
}
