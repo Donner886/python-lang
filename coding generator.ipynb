{
 "cells": [
  {
   "cell_type": "code",
   "id": "c3852e53b7250404",
   "metadata": {
    "ExecuteTime": {
     "end_time": "2024-12-19T15:33:56.673357Z",
     "start_time": "2024-12-19T15:33:56.662893Z"
    }
   },
   "source": [
    "import functools\n",
    "import os"
   ],
   "outputs": [],
   "execution_count": 20
  },
  {
   "cell_type": "code",
   "id": "a397644417dfe538",
   "metadata": {
    "ExecuteTime": {
     "end_time": "2024-12-19T16:08:07.000052Z",
     "start_time": "2024-12-19T16:08:06.986469Z"
    }
   },
   "source": [
    "def suppress_errors(func = None, log_func = None):\n",
    "    '''\n",
    "    Automatically silence any errors that occur within a function\n",
    "    :param func: \n",
    "    :return: \n",
    "    '''\n",
    "    def decarator(func):\n",
    "        @functools.wraps(func)\n",
    "        def wrapper(*args, **kwargs):\n",
    "            try:\n",
    "                print('訪問控制開始')\n",
    "                return func(*args, **kwargs)\n",
    "                print('訪問控制結束')\n",
    "            except Exception as e:\n",
    "                print('異常')\n",
    "                if log_func is not None:\n",
    "                    log_func(str(e))\n",
    "        return wrapper\n",
    "    \n",
    "    if func is None: \n",
    "        return decarator\n",
    "    else:\n",
    "        return decarator(func)"
   ],
   "outputs": [],
   "execution_count": 33
  },
  {
   "metadata": {},
   "cell_type": "code",
   "outputs": [],
   "execution_count": null,
   "source": "",
   "id": "7f47a06edabf8fd0"
  },
  {
   "cell_type": "code",
   "id": "dde16f1b67ddaf79",
   "metadata": {
    "ExecuteTime": {
     "end_time": "2024-12-19T16:08:18.461872Z",
     "start_time": "2024-12-19T16:08:18.452812Z"
    }
   },
   "source": "import datetime",
   "outputs": [],
   "execution_count": 34
  },
  {
   "cell_type": "code",
   "id": "7c84dc1dae0c7db4",
   "metadata": {
    "ExecuteTime": {
     "end_time": "2024-12-19T16:08:34.644851Z",
     "start_time": "2024-12-19T16:08:34.639792Z"
    }
   },
   "source": [
    "def log_error(message, message2, log_file='errors.log'):\n",
    "    \"\"\"\n",
    "    Log an error to a file:\n",
    "    :param message: \n",
    "    :param log_file: \n",
    "    :return: \n",
    "    \"\"\"\n",
    "    log = open(log_file, 'w')\n",
    "    log.write('%s\\t%s\\t%s\\n' % (datetime.datetime.now(), message, message2))"
   ],
   "outputs": [],
   "execution_count": 35
  },
  {
   "metadata": {
    "ExecuteTime": {
     "end_time": "2024-12-19T16:10:03.608356Z",
     "start_time": "2024-12-19T16:10:03.593768Z"
    }
   },
   "cell_type": "code",
   "source": [
    "@suppress_errors(log_error)\n",
    "def example():\n",
    "    print('examplessss,,,,,')"
   ],
   "id": "42723a6a7d75d054",
   "outputs": [
    {
     "name": "stdout",
     "output_type": "stream",
     "text": [
      "訪問控制開始\n",
      "異常\n"
     ]
    }
   ],
   "execution_count": 39
  },
  {
   "metadata": {
    "ExecuteTime": {
     "end_time": "2024-12-19T16:13:02.613794Z",
     "start_time": "2024-12-19T16:13:02.593200Z"
    }
   },
   "cell_type": "code",
   "source": "example()",
   "id": "41c713334702d69b",
   "outputs": [
    {
     "ename": "TypeError",
     "evalue": "'NoneType' object is not callable",
     "output_type": "error",
     "traceback": [
      "\u001B[1;31m---------------------------------------------------------------------------\u001B[0m",
      "\u001B[1;31mTypeError\u001B[0m                                 Traceback (most recent call last)",
      "Cell \u001B[1;32mIn[41], line 1\u001B[0m\n\u001B[1;32m----> 1\u001B[0m example()\n",
      "\u001B[1;31mTypeError\u001B[0m: 'NoneType' object is not callable"
     ]
    }
   ],
   "execution_count": 41
  },
  {
   "metadata": {},
   "cell_type": "code",
   "outputs": [],
   "execution_count": null,
   "source": "",
   "id": "988896dc741b0ca5"
  },
  {
   "metadata": {},
   "cell_type": "code",
   "outputs": [],
   "execution_count": null,
   "source": "",
   "id": "4f5c9930432f5d61"
  },
  {
   "metadata": {},
   "cell_type": "code",
   "outputs": [],
   "execution_count": null,
   "source": "",
   "id": "a621416cc7ff9bca"
  },
  {
   "cell_type": "code",
   "id": "7cc2d48d61df1292",
   "metadata": {
    "ExecuteTime": {
     "end_time": "2024-12-19T15:36:18.146113Z",
     "start_time": "2024-12-19T15:36:18.128560Z"
    }
   },
   "source": "log_error('trial on logging errors function', 'massage222')",
   "outputs": [
    {
     "name": "stdout",
     "output_type": "stream",
     "text": [
      "訪問控制開始\n",
      "not all arguments converted during string formatting\n"
     ]
    }
   ],
   "execution_count": 32
  },
  {
   "metadata": {},
   "cell_type": "code",
   "outputs": [],
   "execution_count": null,
   "source": "",
   "id": "83ae3bfbbfa66e20"
  },
  {
   "metadata": {},
   "cell_type": "code",
   "outputs": [],
   "execution_count": null,
   "source": "",
   "id": "5bdc624dcfc9055b"
  },
  {
   "metadata": {},
   "cell_type": "code",
   "outputs": [],
   "execution_count": null,
   "source": "",
   "id": "5c7c394dcdcc4d37"
  },
  {
   "metadata": {},
   "cell_type": "code",
   "outputs": [],
   "execution_count": null,
   "source": "",
   "id": "7057c64bb3fef557"
  },
  {
   "metadata": {},
   "cell_type": "code",
   "outputs": [],
   "execution_count": null,
   "source": "",
   "id": "e6b731fa445e096"
  },
  {
   "metadata": {
    "ExecuteTime": {
     "end_time": "2024-12-19T15:26:34.163910Z",
     "start_time": "2024-12-19T15:26:34.158638Z"
    }
   },
   "cell_type": "code",
   "source": "import os",
   "id": "3a1bbdcb4e914ce7",
   "outputs": [],
   "execution_count": 8
  },
  {
   "metadata": {
    "ExecuteTime": {
     "end_time": "2024-12-19T15:26:38.861950Z",
     "start_time": "2024-12-19T15:26:38.842715Z"
    }
   },
   "cell_type": "code",
   "source": "os.getcwd()",
   "id": "c87700da758f2ffa",
   "outputs": [
    {
     "data": {
      "text/plain": [
       "'D:\\\\study\\\\python lang'"
      ]
     },
     "execution_count": 9,
     "metadata": {},
     "output_type": "execute_result"
    }
   ],
   "execution_count": 9
  },
  {
   "metadata": {
    "ExecuteTime": {
     "end_time": "2024-12-19T15:29:01.396363Z",
     "start_time": "2024-12-19T15:29:01.383437Z"
    }
   },
   "cell_type": "code",
   "source": [
    "for file in os.listdir():\n",
    "    print(os.path.abspath(os.path.join(os.getcwd(), file)))"
   ],
   "id": "2c739311da7de54a",
   "outputs": [
    {
     "name": "stdout",
     "output_type": "stream",
     "text": [
      "D:\\study\\python lang\\.idea\n",
      "D:\\study\\python lang\\.ipynb_checkpoints\n",
      "D:\\study\\python lang\\Chapter1-2(原理与哲学， 基础知识).md\n",
      "D:\\study\\python lang\\coding generator.ipynb.tmp\n",
      "D:\\study\\python lang\\coding generator.ipynb~\n",
      "D:\\study\\python lang\\errors.log\n",
      "D:\\study\\python lang\\main.py\n"
     ]
    }
   ],
   "execution_count": 11
  },
  {
   "metadata": {
    "ExecuteTime": {
     "end_time": "2025-02-18T06:44:17.735684Z",
     "start_time": "2025-02-18T06:44:17.728472Z"
    }
   },
   "cell_type": "code",
   "source": [
    "\n",
    "\n"
   ],
   "id": "2f6d4b38d54da70c",
   "outputs": [],
   "execution_count": null
  },
  {
   "metadata": {
    "ExecuteTime": {
     "end_time": "2025-02-18T06:46:06.972719Z",
     "start_time": "2025-02-18T06:46:06.961746Z"
    }
   },
   "cell_type": "code",
   "source": [
    "# 将中文字符编码为 utf-7\n",
    "chinese_text = \"项目\"\n",
    "utf7_encoded = chinese_text.encode('utf-7').decode('ascii')\n",
    "print(f'UTF-7 编码: {utf7_encoded}')\n",
    "\n",
    "# 将 utf-7 解码回中文字符\n",
    "decoded_text = utf7_encoded.encode('ascii').decode('utf-7')\n",
    "print(f'解码后: {decoded_text}')"
   ],
   "id": "5f34dc325793665e",
   "outputs": [
    {
     "name": "stdout",
     "output_type": "stream",
     "text": [
      "UTF-7 编码: +mHl27g-\n",
      "解码后: 项目\n"
     ]
    }
   ],
   "execution_count": 4
  },
  {
   "metadata": {},
   "cell_type": "code",
   "outputs": [],
   "execution_count": null,
   "source": "",
   "id": "bfddc0a0ca9d3c76"
  },
  {
   "metadata": {},
   "cell_type": "code",
   "outputs": [],
   "execution_count": null,
   "source": "",
   "id": "a90ea8a3f094e348"
  },
  {
   "metadata": {
    "ExecuteTime": {
     "end_time": "2025-03-19T14:15:01.846618Z",
     "start_time": "2025-03-19T14:15:01.835427Z"
    }
   },
   "cell_type": "code",
   "source": "(1,2,3,4,45)",
   "id": "356648e0d621e247",
   "outputs": [
    {
     "data": {
      "text/plain": [
       "(1, 2, 3, 4, 45)"
      ]
     },
     "execution_count": 1,
     "metadata": {},
     "output_type": "execute_result"
    }
   ],
   "execution_count": 1
  },
  {
   "metadata": {
    "ExecuteTime": {
     "end_time": "2025-03-19T14:15:15.423155Z",
     "start_time": "2025-03-19T14:15:15.417780Z"
    }
   },
   "cell_type": "code",
   "source": "type((1,2,3,4,45))",
   "id": "4d27ee390081543a",
   "outputs": [
    {
     "data": {
      "text/plain": [
       "tuple"
      ]
     },
     "execution_count": 3,
     "metadata": {},
     "output_type": "execute_result"
    }
   ],
   "execution_count": 3
  },
  {
   "metadata": {
    "ExecuteTime": {
     "end_time": "2025-03-19T14:49:14.498564Z",
     "start_time": "2025-03-19T14:49:14.494280Z"
    }
   },
   "cell_type": "code",
   "source": [
    "class Pointer:\n",
    "    x: int\n",
    "    y: int\n",
    "    \n",
    "    def __init__(self,x, y):\n",
    "         self.x = x\n",
    "         self.y = y\n",
    "           "
   ],
   "id": "18ff2721b5e0c30",
   "outputs": [],
   "execution_count": 14
  },
  {
   "metadata": {
    "ExecuteTime": {
     "end_time": "2025-03-19T14:49:14.896117Z",
     "start_time": "2025-03-19T14:49:14.891456Z"
    }
   },
   "cell_type": "code",
   "source": "p = Pointer(x=0, y=2)",
   "id": "f004ea58f68f3aa3",
   "outputs": [],
   "execution_count": 15
  },
  {
   "metadata": {
    "ExecuteTime": {
     "end_time": "2025-03-19T14:49:16.038145Z",
     "start_time": "2025-03-19T14:49:16.030624Z"
    }
   },
   "cell_type": "code",
   "source": [
    "def where_is(point):\n",
    "    match point:\n",
    "        case Pointer(x=0,y=0):\n",
    "            print('Origin')\n",
    "        case Pointer(x=0, y=y):\n",
    "            print(f'Y={y}')\n",
    "        case _:\n",
    "            print(\"Not a point\")"
   ],
   "id": "7cb4daa68b8455f1",
   "outputs": [],
   "execution_count": 16
  },
  {
   "metadata": {
    "ExecuteTime": {
     "end_time": "2025-03-19T14:49:20.084058Z",
     "start_time": "2025-03-19T14:49:20.072317Z"
    }
   },
   "cell_type": "code",
   "source": "where_is(p)",
   "id": "bd66c7eb24fdfd67",
   "outputs": [
    {
     "name": "stdout",
     "output_type": "stream",
     "text": [
      "Y=2\n"
     ]
    }
   ],
   "execution_count": 17
  },
  {
   "metadata": {
    "ExecuteTime": {
     "end_time": "2025-03-24T12:29:57.941170Z",
     "start_time": "2025-03-24T12:29:57.939136Z"
    }
   },
   "cell_type": "code",
   "source": "",
   "id": "663f0587a1b4e495",
   "outputs": [],
   "execution_count": null
  },
  {
   "metadata": {
    "ExecuteTime": {
     "end_time": "2025-03-24T12:29:57.951181Z",
     "start_time": "2025-03-24T12:29:57.948181Z"
    }
   },
   "cell_type": "code",
   "source": "",
   "id": "8dfb8502bf99d3ae",
   "outputs": [],
   "execution_count": null
  },
  {
   "metadata": {
    "ExecuteTime": {
     "end_time": "2025-03-24T12:29:57.965824Z",
     "start_time": "2025-03-24T12:29:57.962823Z"
    }
   },
   "cell_type": "code",
   "source": "",
   "id": "4a428334963701b7",
   "outputs": [],
   "execution_count": null
  },
  {
   "metadata": {
    "ExecuteTime": {
     "end_time": "2025-03-24T12:29:57.970334Z",
     "start_time": "2025-03-24T12:29:57.968333Z"
    }
   },
   "cell_type": "code",
   "source": "",
   "id": "2a0837131bf05b05",
   "outputs": [],
   "execution_count": null
  },
  {
   "metadata": {
    "ExecuteTime": {
     "end_time": "2025-03-24T12:30:18.559438Z",
     "start_time": "2025-03-24T12:30:18.554475Z"
    }
   },
   "cell_type": "code",
   "source": [
    "from collections import UserDict\n",
    "from typing import Any\n"
   ],
   "id": "c7436f97be61ba72",
   "outputs": [],
   "execution_count": 1
  },
  {
   "metadata": {
    "ExecuteTime": {
     "end_time": "2025-03-24T12:33:13.377267Z",
     "start_time": "2025-03-24T12:33:13.370893Z"
    }
   },
   "cell_type": "code",
   "source": [
    "class CaseInSensitiveDict(UserDict):\n",
    "    def __setitem__(self, key, value):\n",
    "        return super().__setitem__(key.lower(), value)\n",
    "    \n",
    "    def __getitem__(self, item) -> Any:\n",
    "        return super().__getitem__(item.lower())\n",
    "    \n",
    "    def __delitem__(self, key: str) -> None:\n",
    "        return super().__delitem__(key.lower()) \n",
    "        "
   ],
   "id": "3b52923e6258e4fd",
   "outputs": [],
   "execution_count": 2
  },
  {
   "metadata": {},
   "cell_type": "code",
   "outputs": [],
   "execution_count": null,
   "source": "",
   "id": "93f6a053f1b802a2"
  }
 ],
 "metadata": {
  "kernelspec": {
   "display_name": "Python 3 (ipykernel)",
   "language": "python",
   "name": "python3"
  },
  "language_info": {
   "codemirror_mode": {
    "name": "ipython",
    "version": 2
   },
   "file_extension": ".py",
   "mimetype": "text/x-python",
   "name": "python",
   "nbconvert_exporter": "python",
   "pygments_lexer": "ipython2",
   "version": "2.7.6"
  }
 },
 "nbformat": 4,
 "nbformat_minor": 5
}
