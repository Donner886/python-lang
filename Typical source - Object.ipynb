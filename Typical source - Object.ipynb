{
 "cells": [
  {
   "metadata": {
    "ExecuteTime": {
     "end_time": "2025-01-21T16:12:53.404748Z",
     "start_time": "2025-01-21T16:12:53.399747Z"
    }
   },
   "cell_type": "code",
   "source": [
    "class Borg:\n",
    "    ## 类的属性\n",
    "    _namespace = {}\n",
    "    def __init__(self, *args, **kwargs):\n",
    "        self.__dict__ = Borg._namespace\n",
    "        ## Do more interesting Stuff here\n",
    "        print('Borg')\n",
    "\n",
    "\n",
    "class Base:\n",
    "     def __init__(self):\n",
    "         print('Base')"
   ],
   "id": "1868ca84ea91a204",
   "outputs": [],
   "execution_count": 78
  },
  {
   "metadata": {
    "ExecuteTime": {
     "end_time": "2025-01-21T16:13:16.549502Z",
     "start_time": "2025-01-21T16:13:16.545676Z"
    }
   },
   "cell_type": "code",
   "source": [
    "class Test(Base, Borg):\n",
    "    pass"
   ],
   "id": "8e6bf557c4a220a1",
   "outputs": [],
   "execution_count": 79
  },
  {
   "metadata": {
    "ExecuteTime": {
     "end_time": "2025-01-21T16:13:23.537501Z",
     "start_time": "2025-01-21T16:13:23.529082Z"
    }
   },
   "cell_type": "code",
   "source": "Test()",
   "id": "3a96f8d413f46fdd",
   "outputs": [
    {
     "name": "stdout",
     "output_type": "stream",
     "text": [
      "Base\n"
     ]
    },
    {
     "data": {
      "text/plain": [
       "<__main__.Test at 0x2c471e08150>"
      ]
     },
     "execution_count": 80,
     "metadata": {},
     "output_type": "execute_result"
    }
   ],
   "execution_count": 80
  },
  {
   "metadata": {
    "ExecuteTime": {
     "end_time": "2025-01-21T16:13:47.787305Z",
     "start_time": "2025-01-21T16:13:47.783251Z"
    }
   },
   "cell_type": "code",
   "source": [
    "class Test(Borg, Base):\n",
    "    pass"
   ],
   "id": "8d2510d08294e440",
   "outputs": [],
   "execution_count": 81
  },
  {
   "metadata": {
    "ExecuteTime": {
     "end_time": "2025-01-21T16:13:53.694216Z",
     "start_time": "2025-01-21T16:13:53.687147Z"
    }
   },
   "cell_type": "code",
   "source": "Test()",
   "id": "996bd5dca05dcaa0",
   "outputs": [
    {
     "name": "stdout",
     "output_type": "stream",
     "text": [
      "Borg\n"
     ]
    },
    {
     "data": {
      "text/plain": [
       "<__main__.Test at 0x2c471df0cd0>"
      ]
     },
     "execution_count": 82,
     "metadata": {},
     "output_type": "execute_result"
    }
   ],
   "execution_count": 82
  },
  {
   "metadata": {},
   "cell_type": "code",
   "outputs": [],
   "execution_count": null,
   "source": "",
   "id": "e040f11d985727a0"
  },
  {
   "metadata": {},
   "cell_type": "code",
   "outputs": [],
   "execution_count": null,
   "source": "",
   "id": "b7a2de338bad30a"
  },
  {
   "cell_type": "code",
   "id": "initial_id",
   "metadata": {
    "collapsed": true,
    "ExecuteTime": {
     "end_time": "2025-01-21T13:49:21.677165Z",
     "start_time": "2025-01-21T13:49:21.673164Z"
    }
   },
   "source": [
    "a = Borg()\n",
    "b = Borg()\n"
   ],
   "outputs": [],
   "execution_count": 9
  },
  {
   "metadata": {
    "ExecuteTime": {
     "end_time": "2025-01-21T13:49:21.867283Z",
     "start_time": "2025-01-21T13:49:21.859962Z"
    }
   },
   "cell_type": "code",
   "source": "hasattr(a, 'attribute')",
   "id": "472402eaa8db9bdf",
   "outputs": [
    {
     "data": {
      "text/plain": [
       "False"
      ]
     },
     "execution_count": 10,
     "metadata": {},
     "output_type": "execute_result"
    }
   ],
   "execution_count": 10
  },
  {
   "metadata": {
    "ExecuteTime": {
     "end_time": "2025-01-21T13:49:21.982957Z",
     "start_time": "2025-01-21T13:49:21.977933Z"
    }
   },
   "cell_type": "code",
   "source": "b.attribute = 'value'",
   "id": "9a80bfd4d3ed4360",
   "outputs": [],
   "execution_count": 11
  },
  {
   "metadata": {
    "ExecuteTime": {
     "end_time": "2025-01-21T13:49:22.127132Z",
     "start_time": "2025-01-21T13:49:22.122126Z"
    }
   },
   "cell_type": "code",
   "source": "hasattr(a, 'attribute')",
   "id": "b6f62ad78146a947",
   "outputs": [
    {
     "data": {
      "text/plain": [
       "True"
      ]
     },
     "execution_count": 12,
     "metadata": {},
     "output_type": "execute_result"
    }
   ],
   "execution_count": 12
  },
  {
   "metadata": {
    "ExecuteTime": {
     "end_time": "2025-01-21T13:49:22.354818Z",
     "start_time": "2025-01-21T13:49:22.348858Z"
    }
   },
   "cell_type": "code",
   "source": "a.attribute",
   "id": "feb2fc7bc90f73ef",
   "outputs": [
    {
     "data": {
      "text/plain": [
       "'value'"
      ]
     },
     "execution_count": 13,
     "metadata": {},
     "output_type": "execute_result"
    }
   ],
   "execution_count": 13
  },
  {
   "metadata": {
    "ExecuteTime": {
     "end_time": "2025-01-21T13:59:21.433329Z",
     "start_time": "2025-01-21T13:59:21.428329Z"
    }
   },
   "cell_type": "code",
   "source": "Borg._namespace",
   "id": "f4a9b3d56e4cb311",
   "outputs": [
    {
     "data": {
      "text/plain": [
       "{'attribute': 'value'}"
      ]
     },
     "execution_count": 14,
     "metadata": {},
     "output_type": "execute_result"
    }
   ],
   "execution_count": 14
  },
  {
   "metadata": {
    "ExecuteTime": {
     "end_time": "2025-01-21T14:08:19.039357Z",
     "start_time": "2025-01-21T14:08:19.036337Z"
    }
   },
   "cell_type": "code",
   "source": "",
   "id": "4d8562164aa69761",
   "outputs": [],
   "execution_count": 14
  },
  {
   "metadata": {
    "ExecuteTime": {
     "end_time": "2025-01-21T14:08:19.205999Z",
     "start_time": "2025-01-21T14:08:19.202474Z"
    }
   },
   "cell_type": "code",
   "source": "",
   "id": "5e09c26130c835d8",
   "outputs": [],
   "execution_count": 14
  },
  {
   "metadata": {
    "ExecuteTime": {
     "end_time": "2025-01-21T14:10:10.857492Z",
     "start_time": "2025-01-21T14:10:10.853193Z"
    }
   },
   "cell_type": "code",
   "source": [
    "class Base:\n",
    "    def __init__(self):\n",
    "        print('Base')\n",
    "        "
   ],
   "id": "8b9e5374cfca42ef",
   "outputs": [],
   "execution_count": 20
  },
  {
   "metadata": {
    "ExecuteTime": {
     "end_time": "2025-01-21T14:10:11.000273Z",
     "start_time": "2025-01-21T14:10:10.996274Z"
    }
   },
   "cell_type": "code",
   "source": [
    "class Testing(Borg, Base):\n",
    "    pass"
   ],
   "id": "dc23f38e54c469ef",
   "outputs": [],
   "execution_count": 21
  },
  {
   "metadata": {
    "ExecuteTime": {
     "end_time": "2025-01-21T14:10:11.545864Z",
     "start_time": "2025-01-21T14:10:11.540864Z"
    }
   },
   "cell_type": "code",
   "source": "Testing()",
   "id": "54686e950e99f40c",
   "outputs": [
    {
     "name": "stdout",
     "output_type": "stream",
     "text": [
      "Borg\n"
     ]
    },
    {
     "data": {
      "text/plain": [
       "<__main__.Testing at 0x2c471125850>"
      ]
     },
     "execution_count": 22,
     "metadata": {},
     "output_type": "execute_result"
    }
   ],
   "execution_count": 22
  },
  {
   "metadata": {
    "ExecuteTime": {
     "end_time": "2025-01-21T14:11:37.501302Z",
     "start_time": "2025-01-21T14:11:37.494346Z"
    }
   },
   "cell_type": "code",
   "source": "Testing.__mro__",
   "id": "ace73808f93b40ef",
   "outputs": [
    {
     "data": {
      "text/plain": [
       "(__main__.Testing, __main__.Borg, __main__.Base, object)"
      ]
     },
     "execution_count": 24,
     "metadata": {},
     "output_type": "execute_result"
    }
   ],
   "execution_count": 24
  },
  {
   "metadata": {
    "ExecuteTime": {
     "end_time": "2025-01-21T14:39:17.719447Z",
     "start_time": "2025-01-21T14:39:17.713309Z"
    }
   },
   "cell_type": "code",
   "source": [
    "# class MyClass:\n",
    "#     def __new__(cls, *args, **kwargs):\n",
    "#         print(\" Creating a new instance\")\n",
    "#         instance = super().__new__(cls)\n",
    "#         return instance\n",
    "#     \n",
    "#     def __int__(self, value):\n",
    "#          print('Initialing the instance')\n",
    "#          self.value = value\n",
    "#         \n",
    "#         \n",
    "        \n",
    "class MyClass:\n",
    "    def __new__(cls, *args, **kwargs):\n",
    "        print(\"Creating a new instance\")\n",
    "        instance = super().__new__(cls)\n",
    "        return instance\n",
    "\n",
    "    def __init__(self, value):\n",
    "        print(\"Initializing the instance\")\n",
    "        self.value = value\n",
    "\n",
    "\n"
   ],
   "id": "88fcb5a5ac04c50e",
   "outputs": [],
   "execution_count": 40
  },
  {
   "metadata": {
    "ExecuteTime": {
     "end_time": "2025-01-21T14:39:31.131374Z",
     "start_time": "2025-01-21T14:39:31.126374Z"
    }
   },
   "cell_type": "code",
   "source": "obj = MyClass(34)",
   "id": "8a96b2edf83d5247",
   "outputs": [
    {
     "name": "stdout",
     "output_type": "stream",
     "text": [
      "Creating a new instance\n",
      "Initializing the instance\n"
     ]
    }
   ],
   "execution_count": 42
  },
  {
   "metadata": {
    "ExecuteTime": {
     "end_time": "2025-01-21T14:42:52.997669Z",
     "start_time": "2025-01-21T14:42:52.993419Z"
    }
   },
   "cell_type": "code",
   "source": [
    "class MyClass:\n",
    "    def __new__(cls, *args, **kwargs):\n",
    "        print(\" Creating a new instance\")\n",
    "        instance = super().__new__(cls)\n",
    "        return instance\n",
    "\n",
    "    def __init__(self, value):\n",
    "        print('Initialing the instance')\n",
    "        self.value = value\n",
    "        \n",
    "#         "
   ],
   "id": "ba15430fc6f1b3cb",
   "outputs": [],
   "execution_count": 47
  },
  {
   "metadata": {
    "ExecuteTime": {
     "end_time": "2025-01-21T14:42:53.706485Z",
     "start_time": "2025-01-21T14:42:53.699230Z"
    }
   },
   "cell_type": "code",
   "source": "MyClass(44)",
   "id": "3030efa6393786de",
   "outputs": [
    {
     "name": "stdout",
     "output_type": "stream",
     "text": [
      " Creating a new instance\n",
      "Initialing the instance\n"
     ]
    },
    {
     "data": {
      "text/plain": [
       "<__main__.MyClass at 0x2c471124590>"
      ]
     },
     "execution_count": 48,
     "metadata": {},
     "output_type": "execute_result"
    }
   ],
   "execution_count": 48
  },
  {
   "metadata": {
    "ExecuteTime": {
     "end_time": "2025-01-21T15:28:59.167534Z",
     "start_time": "2025-01-21T15:28:59.159526Z"
    }
   },
   "cell_type": "code",
   "source": [
    "class MyBaseClass:\n",
    "    def __new__(cls, *args, **kwargs):\n",
    "        print(\"Creating a new instance in MyBaseClass\")\n",
    "        print(f'cls is: {cls}' )\n",
    "        instance = super().__new__(cls)\n",
    "        return instance\n",
    "class MyBaseClass2:\n",
    "    def __new__(cls, *args, **kwargs):\n",
    "        print(\"Creating a new instance in MyBaseClass2\")\n",
    "        print(f'cls is: {cls}' )\n",
    "        instance = super().__new__(cls)\n",
    "        return instance\n",
    "\n",
    "\n",
    "class MyClass(MyBaseClass, MyBaseClass2):\n",
    "    def __new__(cls, *args, **kwargs):\n",
    "        print(f\"cls: {cls}\")\n",
    "        instance = super().__new__(cls)\n",
    "        return instance\n",
    "\n",
    "    def __init__(self, value):\n",
    "        print('Initializing ')\n",
    "        self.value = value\n",
    "\n",
    "# Creating an instance of MyClass\n",
    "obj = MyClass(42)\n",
    "\n",
    "# Output:\n",
    "# cls: <class '__main__.MyClass'>\n",
    "# Creating a new instance in MyBaseClass\n"
   ],
   "id": "79f33c5108a9fa6",
   "outputs": [
    {
     "name": "stdout",
     "output_type": "stream",
     "text": [
      "cls: <class '__main__.MyClass'>\n",
      "Creating a new instance in MyBaseClass\n",
      "cls is: <class '__main__.MyClass'>\n",
      "Creating a new instance in MyBaseClass2\n",
      "cls is: <class '__main__.MyClass'>\n",
      "Initializing \n"
     ]
    }
   ],
   "execution_count": 55
  },
  {
   "metadata": {
    "ExecuteTime": {
     "end_time": "2025-01-21T15:28:59.892105Z",
     "start_time": "2025-01-21T15:28:59.884795Z"
    }
   },
   "cell_type": "code",
   "source": "MyClass.__mro__",
   "id": "21b47b4ff6870b6d",
   "outputs": [
    {
     "data": {
      "text/plain": [
       "(__main__.MyClass, __main__.MyBaseClass, __main__.MyBaseClass2, object)"
      ]
     },
     "execution_count": 56,
     "metadata": {},
     "output_type": "execute_result"
    }
   ],
   "execution_count": 56
  },
  {
   "metadata": {
    "ExecuteTime": {
     "end_time": "2025-01-21T15:35:51.181725Z",
     "start_time": "2025-01-21T15:35:51.172762Z"
    }
   },
   "cell_type": "code",
   "source": [
    "class BaseClass:\n",
    "    def name(self):\n",
    "        print(\"Name in BaseClass\")\n",
    "\n",
    "class DerivedClass(BaseClass):\n",
    "    def name(self):\n",
    "        print(\"Name in DerivedClass\")\n",
    "        super(DerivedClass, self).name()  # Calls BaseClass.name(self)\n",
    "\n",
    "# Creating an instance of DerivedClass\n",
    "obj = DerivedClass()\n",
    "obj.name()\n"
   ],
   "id": "ed388375d112b362",
   "outputs": [
    {
     "name": "stdout",
     "output_type": "stream",
     "text": [
      "Name in DerivedClass\n",
      "Name in BaseClass\n"
     ]
    }
   ],
   "execution_count": 57
  },
  {
   "metadata": {
    "ExecuteTime": {
     "end_time": "2025-01-21T15:46:28.536167Z",
     "start_time": "2025-01-21T15:46:28.529170Z"
    }
   },
   "cell_type": "code",
   "source": "DerivedClass.__mro__",
   "id": "fc9d33d0d0bf4f9c",
   "outputs": [
    {
     "data": {
      "text/plain": [
       "(__main__.DerivedClass, __main__.BaseClass, object)"
      ]
     },
     "execution_count": 58,
     "metadata": {},
     "output_type": "execute_result"
    }
   ],
   "execution_count": 58
  },
  {
   "metadata": {
    "ExecuteTime": {
     "end_time": "2025-01-21T15:47:59.542953Z",
     "start_time": "2025-01-21T15:47:59.527953Z"
    }
   },
   "cell_type": "code",
   "source": [
    "###  经典案例\n",
    "super(DerivedClass, DerivedClass).name() "
   ],
   "id": "bcf797bc6d5d86e4",
   "outputs": [
    {
     "ename": "TypeError",
     "evalue": "BaseClass.name() missing 1 required positional argument: 'self'",
     "output_type": "error",
     "traceback": [
      "\u001B[1;31m---------------------------------------------------------------------------\u001B[0m",
      "\u001B[1;31mTypeError\u001B[0m                                 Traceback (most recent call last)",
      "Cell \u001B[1;32mIn[61], line 2\u001B[0m\n\u001B[0;32m      1\u001B[0m \u001B[38;5;66;03m###  经典案例\u001B[39;00m\n\u001B[1;32m----> 2\u001B[0m \u001B[38;5;28msuper\u001B[39m(DerivedClass, DerivedClass)\u001B[38;5;241m.\u001B[39mname()\n",
      "\u001B[1;31mTypeError\u001B[0m: BaseClass.name() missing 1 required positional argument: 'self'"
     ]
    }
   ],
   "execution_count": 61
  },
  {
   "metadata": {
    "ExecuteTime": {
     "end_time": "2025-01-21T15:48:16.125865Z",
     "start_time": "2025-01-21T15:48:16.121998Z"
    }
   },
   "cell_type": "code",
   "source": "",
   "id": "bfc5391fff4b8b00",
   "outputs": [],
   "execution_count": 61
  },
  {
   "metadata": {
    "ExecuteTime": {
     "end_time": "2025-01-21T15:51:21.197222Z",
     "start_time": "2025-01-21T15:51:21.192734Z"
    }
   },
   "cell_type": "code",
   "source": [
    "class Base:\n",
    "    def __init__(self):\n",
    "        print('Base')\n",
    "        \n",
    "        \n",
    "        \n",
    "class Borg:\n",
    "    _namespace = {}\n",
    "    def __new__(cls, *args, **kwargs):\n",
    "        print('Borg')\n",
    "        obj = super(Borg, cls).__new__(cls, *args, **kwargs)\n",
    "        obj.__dict__ = cls._namespace\n",
    "        return obj\n",
    "        "
   ],
   "id": "1f3a883cb014c36c",
   "outputs": [],
   "execution_count": 62
  },
  {
   "metadata": {
    "ExecuteTime": {
     "end_time": "2025-01-21T15:57:09.660186Z",
     "start_time": "2025-01-21T15:57:09.655185Z"
    }
   },
   "cell_type": "code",
   "source": [
    "class Test(Borg, Base):\n",
    "    def __new__(cls, *args, **kwargs):\n",
    "        print('My new ')\n",
    "        obj = super().__new__(cls, *args, **kwargs)\n",
    "        return obj\n",
    "    pass"
   ],
   "id": "c3d68aaa32b0ee48",
   "outputs": [],
   "execution_count": 69
  },
  {
   "metadata": {
    "ExecuteTime": {
     "end_time": "2025-01-21T15:57:10.284746Z",
     "start_time": "2025-01-21T15:57:10.276677Z"
    }
   },
   "cell_type": "code",
   "source": "Test()",
   "id": "8798176e4627f0a7",
   "outputs": [
    {
     "name": "stdout",
     "output_type": "stream",
     "text": [
      "My new \n",
      "Borg\n",
      "Base\n"
     ]
    },
    {
     "data": {
      "text/plain": [
       "<__main__.Test at 0x2c47164bd50>"
      ]
     },
     "execution_count": 70,
     "metadata": {},
     "output_type": "execute_result"
    }
   ],
   "execution_count": 70
  },
  {
   "metadata": {
    "ExecuteTime": {
     "end_time": "2025-01-21T15:58:33.922601Z",
     "start_time": "2025-01-21T15:58:33.917260Z"
    }
   },
   "cell_type": "code",
   "source": "a = Test()",
   "id": "aacf06cd2e55fb0f",
   "outputs": [
    {
     "name": "stdout",
     "output_type": "stream",
     "text": [
      "My new \n",
      "Borg\n",
      "Base\n"
     ]
    }
   ],
   "execution_count": 71
  },
  {
   "metadata": {
    "ExecuteTime": {
     "end_time": "2025-01-21T15:58:38.433992Z",
     "start_time": "2025-01-21T15:58:38.430740Z"
    }
   },
   "cell_type": "code",
   "source": "b = Test()",
   "id": "68146f663b2a5968",
   "outputs": [
    {
     "name": "stdout",
     "output_type": "stream",
     "text": [
      "My new \n",
      "Borg\n",
      "Base\n"
     ]
    }
   ],
   "execution_count": 72
  },
  {
   "metadata": {
    "ExecuteTime": {
     "end_time": "2025-01-21T15:58:58.977151Z",
     "start_time": "2025-01-21T15:58:58.973053Z"
    }
   },
   "cell_type": "code",
   "source": "a.attribute = 'value'",
   "id": "5a0053f6d60f97c7",
   "outputs": [],
   "execution_count": 73
  },
  {
   "metadata": {
    "ExecuteTime": {
     "end_time": "2025-01-21T15:59:09.253088Z",
     "start_time": "2025-01-21T15:59:09.246638Z"
    }
   },
   "cell_type": "code",
   "source": "b.attribute",
   "id": "ab55ac70b981664a",
   "outputs": [
    {
     "data": {
      "text/plain": [
       "'value'"
      ]
     },
     "execution_count": 74,
     "metadata": {},
     "output_type": "execute_result"
    }
   ],
   "execution_count": 74
  },
  {
   "metadata": {
    "ExecuteTime": {
     "end_time": "2025-01-21T15:59:37.671183Z",
     "start_time": "2025-01-21T15:59:37.667184Z"
    }
   },
   "cell_type": "code",
   "source": "b.__dict__",
   "id": "96ed618101577e83",
   "outputs": [
    {
     "data": {
      "text/plain": [
       "{'attribute': 'value'}"
      ]
     },
     "execution_count": 75,
     "metadata": {},
     "output_type": "execute_result"
    }
   ],
   "execution_count": 75
  },
  {
   "metadata": {
    "ExecuteTime": {
     "end_time": "2025-03-11T13:54:52.007499Z",
     "start_time": "2025-03-11T13:54:51.992849Z"
    }
   },
   "cell_type": "code",
   "source": "from typing import Any",
   "id": "8aa40eadac5984d4",
   "outputs": [],
   "execution_count": 1
  },
  {
   "metadata": {
    "ExecuteTime": {
     "end_time": "2025-03-11T13:56:04.189149Z",
     "start_time": "2025-03-11T13:56:04.182757Z"
    }
   },
   "cell_type": "code",
   "source": [
    "def get_ci(d:dict, key: str) -> Any:\n",
    "    for k,v in d.items():\n",
    "        if key.lower() == k.lower():\n",
    "            return v\n",
    "        \n",
    "        \n",
    "        "
   ],
   "id": "32755557f00711c7",
   "outputs": [],
   "execution_count": 2
  },
  {
   "metadata": {
    "ExecuteTime": {
     "end_time": "2025-03-11T15:08:24.674875Z",
     "start_time": "2025-03-11T15:08:24.663844Z"
    }
   },
   "cell_type": "code",
   "source": "import inspect",
   "id": "d9d791871e396c76",
   "outputs": [],
   "execution_count": 4
  },
  {
   "metadata": {
    "ExecuteTime": {
     "end_time": "2025-03-11T15:09:08.224028Z",
     "start_time": "2025-03-11T15:09:08.214535Z"
    }
   },
   "cell_type": "code",
   "source": "inspect.getfullargspec(get_ci)",
   "id": "1cb0924a7735a8ef",
   "outputs": [
    {
     "data": {
      "text/plain": [
       "FullArgSpec(args=['d', 'key'], varargs=None, varkw=None, defaults=None, kwonlyargs=[], kwonlydefaults=None, annotations={'return': typing.Any, 'd': <class 'dict'>, 'key': <class 'str'>})"
      ]
     },
     "execution_count": 6,
     "metadata": {},
     "output_type": "execute_result"
    }
   ],
   "execution_count": 6
  },
  {
   "metadata": {
    "ExecuteTime": {
     "end_time": "2025-03-11T16:01:59.214873Z",
     "start_time": "2025-03-11T16:01:59.194915Z"
    }
   },
   "cell_type": "code",
   "source": "import zoneinfo",
   "id": "4b5e05fe005543bf",
   "outputs": [],
   "execution_count": 8
  },
  {
   "metadata": {
    "ExecuteTime": {
     "end_time": "2025-03-11T16:02:07.736936Z",
     "start_time": "2025-03-11T16:02:07.686060Z"
    }
   },
   "cell_type": "code",
   "source": "zoneinfo.available_timezones()",
   "id": "377858ae231f2e8a",
   "outputs": [
    {
     "data": {
      "text/plain": [
       "{'Africa/Abidjan',\n",
       " 'Africa/Accra',\n",
       " 'Africa/Addis_Ababa',\n",
       " 'Africa/Algiers',\n",
       " 'Africa/Asmara',\n",
       " 'Africa/Asmera',\n",
       " 'Africa/Bamako',\n",
       " 'Africa/Bangui',\n",
       " 'Africa/Banjul',\n",
       " 'Africa/Bissau',\n",
       " 'Africa/Blantyre',\n",
       " 'Africa/Brazzaville',\n",
       " 'Africa/Bujumbura',\n",
       " 'Africa/Cairo',\n",
       " 'Africa/Casablanca',\n",
       " 'Africa/Ceuta',\n",
       " 'Africa/Conakry',\n",
       " 'Africa/Dakar',\n",
       " 'Africa/Dar_es_Salaam',\n",
       " 'Africa/Djibouti',\n",
       " 'Africa/Douala',\n",
       " 'Africa/El_Aaiun',\n",
       " 'Africa/Freetown',\n",
       " 'Africa/Gaborone',\n",
       " 'Africa/Harare',\n",
       " 'Africa/Johannesburg',\n",
       " 'Africa/Juba',\n",
       " 'Africa/Kampala',\n",
       " 'Africa/Khartoum',\n",
       " 'Africa/Kigali',\n",
       " 'Africa/Kinshasa',\n",
       " 'Africa/Lagos',\n",
       " 'Africa/Libreville',\n",
       " 'Africa/Lome',\n",
       " 'Africa/Luanda',\n",
       " 'Africa/Lubumbashi',\n",
       " 'Africa/Lusaka',\n",
       " 'Africa/Malabo',\n",
       " 'Africa/Maputo',\n",
       " 'Africa/Maseru',\n",
       " 'Africa/Mbabane',\n",
       " 'Africa/Mogadishu',\n",
       " 'Africa/Monrovia',\n",
       " 'Africa/Nairobi',\n",
       " 'Africa/Ndjamena',\n",
       " 'Africa/Niamey',\n",
       " 'Africa/Nouakchott',\n",
       " 'Africa/Ouagadougou',\n",
       " 'Africa/Porto-Novo',\n",
       " 'Africa/Sao_Tome',\n",
       " 'Africa/Timbuktu',\n",
       " 'Africa/Tripoli',\n",
       " 'Africa/Tunis',\n",
       " 'Africa/Windhoek',\n",
       " 'America/Adak',\n",
       " 'America/Anchorage',\n",
       " 'America/Anguilla',\n",
       " 'America/Antigua',\n",
       " 'America/Araguaina',\n",
       " 'America/Argentina/Buenos_Aires',\n",
       " 'America/Argentina/Catamarca',\n",
       " 'America/Argentina/ComodRivadavia',\n",
       " 'America/Argentina/Cordoba',\n",
       " 'America/Argentina/Jujuy',\n",
       " 'America/Argentina/La_Rioja',\n",
       " 'America/Argentina/Mendoza',\n",
       " 'America/Argentina/Rio_Gallegos',\n",
       " 'America/Argentina/Salta',\n",
       " 'America/Argentina/San_Juan',\n",
       " 'America/Argentina/San_Luis',\n",
       " 'America/Argentina/Tucuman',\n",
       " 'America/Argentina/Ushuaia',\n",
       " 'America/Aruba',\n",
       " 'America/Asuncion',\n",
       " 'America/Atikokan',\n",
       " 'America/Atka',\n",
       " 'America/Bahia',\n",
       " 'America/Bahia_Banderas',\n",
       " 'America/Barbados',\n",
       " 'America/Belem',\n",
       " 'America/Belize',\n",
       " 'America/Blanc-Sablon',\n",
       " 'America/Boa_Vista',\n",
       " 'America/Bogota',\n",
       " 'America/Boise',\n",
       " 'America/Buenos_Aires',\n",
       " 'America/Cambridge_Bay',\n",
       " 'America/Campo_Grande',\n",
       " 'America/Cancun',\n",
       " 'America/Caracas',\n",
       " 'America/Catamarca',\n",
       " 'America/Cayenne',\n",
       " 'America/Cayman',\n",
       " 'America/Chicago',\n",
       " 'America/Chihuahua',\n",
       " 'America/Ciudad_Juarez',\n",
       " 'America/Coral_Harbour',\n",
       " 'America/Cordoba',\n",
       " 'America/Costa_Rica',\n",
       " 'America/Creston',\n",
       " 'America/Cuiaba',\n",
       " 'America/Curacao',\n",
       " 'America/Danmarkshavn',\n",
       " 'America/Dawson',\n",
       " 'America/Dawson_Creek',\n",
       " 'America/Denver',\n",
       " 'America/Detroit',\n",
       " 'America/Dominica',\n",
       " 'America/Edmonton',\n",
       " 'America/Eirunepe',\n",
       " 'America/El_Salvador',\n",
       " 'America/Ensenada',\n",
       " 'America/Fort_Nelson',\n",
       " 'America/Fort_Wayne',\n",
       " 'America/Fortaleza',\n",
       " 'America/Glace_Bay',\n",
       " 'America/Godthab',\n",
       " 'America/Goose_Bay',\n",
       " 'America/Grand_Turk',\n",
       " 'America/Grenada',\n",
       " 'America/Guadeloupe',\n",
       " 'America/Guatemala',\n",
       " 'America/Guayaquil',\n",
       " 'America/Guyana',\n",
       " 'America/Halifax',\n",
       " 'America/Havana',\n",
       " 'America/Hermosillo',\n",
       " 'America/Indiana/Indianapolis',\n",
       " 'America/Indiana/Knox',\n",
       " 'America/Indiana/Marengo',\n",
       " 'America/Indiana/Petersburg',\n",
       " 'America/Indiana/Tell_City',\n",
       " 'America/Indiana/Vevay',\n",
       " 'America/Indiana/Vincennes',\n",
       " 'America/Indiana/Winamac',\n",
       " 'America/Indianapolis',\n",
       " 'America/Inuvik',\n",
       " 'America/Iqaluit',\n",
       " 'America/Jamaica',\n",
       " 'America/Jujuy',\n",
       " 'America/Juneau',\n",
       " 'America/Kentucky/Louisville',\n",
       " 'America/Kentucky/Monticello',\n",
       " 'America/Knox_IN',\n",
       " 'America/Kralendijk',\n",
       " 'America/La_Paz',\n",
       " 'America/Lima',\n",
       " 'America/Los_Angeles',\n",
       " 'America/Louisville',\n",
       " 'America/Lower_Princes',\n",
       " 'America/Maceio',\n",
       " 'America/Managua',\n",
       " 'America/Manaus',\n",
       " 'America/Marigot',\n",
       " 'America/Martinique',\n",
       " 'America/Matamoros',\n",
       " 'America/Mazatlan',\n",
       " 'America/Mendoza',\n",
       " 'America/Menominee',\n",
       " 'America/Merida',\n",
       " 'America/Metlakatla',\n",
       " 'America/Mexico_City',\n",
       " 'America/Miquelon',\n",
       " 'America/Moncton',\n",
       " 'America/Monterrey',\n",
       " 'America/Montevideo',\n",
       " 'America/Montreal',\n",
       " 'America/Montserrat',\n",
       " 'America/Nassau',\n",
       " 'America/New_York',\n",
       " 'America/Nipigon',\n",
       " 'America/Nome',\n",
       " 'America/Noronha',\n",
       " 'America/North_Dakota/Beulah',\n",
       " 'America/North_Dakota/Center',\n",
       " 'America/North_Dakota/New_Salem',\n",
       " 'America/Nuuk',\n",
       " 'America/Ojinaga',\n",
       " 'America/Panama',\n",
       " 'America/Pangnirtung',\n",
       " 'America/Paramaribo',\n",
       " 'America/Phoenix',\n",
       " 'America/Port-au-Prince',\n",
       " 'America/Port_of_Spain',\n",
       " 'America/Porto_Acre',\n",
       " 'America/Porto_Velho',\n",
       " 'America/Puerto_Rico',\n",
       " 'America/Punta_Arenas',\n",
       " 'America/Rainy_River',\n",
       " 'America/Rankin_Inlet',\n",
       " 'America/Recife',\n",
       " 'America/Regina',\n",
       " 'America/Resolute',\n",
       " 'America/Rio_Branco',\n",
       " 'America/Rosario',\n",
       " 'America/Santa_Isabel',\n",
       " 'America/Santarem',\n",
       " 'America/Santiago',\n",
       " 'America/Santo_Domingo',\n",
       " 'America/Sao_Paulo',\n",
       " 'America/Scoresbysund',\n",
       " 'America/Shiprock',\n",
       " 'America/Sitka',\n",
       " 'America/St_Barthelemy',\n",
       " 'America/St_Johns',\n",
       " 'America/St_Kitts',\n",
       " 'America/St_Lucia',\n",
       " 'America/St_Thomas',\n",
       " 'America/St_Vincent',\n",
       " 'America/Swift_Current',\n",
       " 'America/Tegucigalpa',\n",
       " 'America/Thule',\n",
       " 'America/Thunder_Bay',\n",
       " 'America/Tijuana',\n",
       " 'America/Toronto',\n",
       " 'America/Tortola',\n",
       " 'America/Vancouver',\n",
       " 'America/Virgin',\n",
       " 'America/Whitehorse',\n",
       " 'America/Winnipeg',\n",
       " 'America/Yakutat',\n",
       " 'America/Yellowknife',\n",
       " 'Antarctica/Casey',\n",
       " 'Antarctica/Davis',\n",
       " 'Antarctica/DumontDUrville',\n",
       " 'Antarctica/Macquarie',\n",
       " 'Antarctica/Mawson',\n",
       " 'Antarctica/McMurdo',\n",
       " 'Antarctica/Palmer',\n",
       " 'Antarctica/Rothera',\n",
       " 'Antarctica/South_Pole',\n",
       " 'Antarctica/Syowa',\n",
       " 'Antarctica/Troll',\n",
       " 'Antarctica/Vostok',\n",
       " 'Arctic/Longyearbyen',\n",
       " 'Asia/Aden',\n",
       " 'Asia/Almaty',\n",
       " 'Asia/Amman',\n",
       " 'Asia/Anadyr',\n",
       " 'Asia/Aqtau',\n",
       " 'Asia/Aqtobe',\n",
       " 'Asia/Ashgabat',\n",
       " 'Asia/Ashkhabad',\n",
       " 'Asia/Atyrau',\n",
       " 'Asia/Baghdad',\n",
       " 'Asia/Bahrain',\n",
       " 'Asia/Baku',\n",
       " 'Asia/Bangkok',\n",
       " 'Asia/Barnaul',\n",
       " 'Asia/Beirut',\n",
       " 'Asia/Bishkek',\n",
       " 'Asia/Brunei',\n",
       " 'Asia/Calcutta',\n",
       " 'Asia/Chita',\n",
       " 'Asia/Choibalsan',\n",
       " 'Asia/Chongqing',\n",
       " 'Asia/Chungking',\n",
       " 'Asia/Colombo',\n",
       " 'Asia/Dacca',\n",
       " 'Asia/Damascus',\n",
       " 'Asia/Dhaka',\n",
       " 'Asia/Dili',\n",
       " 'Asia/Dubai',\n",
       " 'Asia/Dushanbe',\n",
       " 'Asia/Famagusta',\n",
       " 'Asia/Gaza',\n",
       " 'Asia/Harbin',\n",
       " 'Asia/Hebron',\n",
       " 'Asia/Ho_Chi_Minh',\n",
       " 'Asia/Hong_Kong',\n",
       " 'Asia/Hovd',\n",
       " 'Asia/Irkutsk',\n",
       " 'Asia/Istanbul',\n",
       " 'Asia/Jakarta',\n",
       " 'Asia/Jayapura',\n",
       " 'Asia/Jerusalem',\n",
       " 'Asia/Kabul',\n",
       " 'Asia/Kamchatka',\n",
       " 'Asia/Karachi',\n",
       " 'Asia/Kashgar',\n",
       " 'Asia/Kathmandu',\n",
       " 'Asia/Katmandu',\n",
       " 'Asia/Khandyga',\n",
       " 'Asia/Kolkata',\n",
       " 'Asia/Krasnoyarsk',\n",
       " 'Asia/Kuala_Lumpur',\n",
       " 'Asia/Kuching',\n",
       " 'Asia/Kuwait',\n",
       " 'Asia/Macao',\n",
       " 'Asia/Macau',\n",
       " 'Asia/Magadan',\n",
       " 'Asia/Makassar',\n",
       " 'Asia/Manila',\n",
       " 'Asia/Muscat',\n",
       " 'Asia/Nicosia',\n",
       " 'Asia/Novokuznetsk',\n",
       " 'Asia/Novosibirsk',\n",
       " 'Asia/Omsk',\n",
       " 'Asia/Oral',\n",
       " 'Asia/Phnom_Penh',\n",
       " 'Asia/Pontianak',\n",
       " 'Asia/Pyongyang',\n",
       " 'Asia/Qatar',\n",
       " 'Asia/Qostanay',\n",
       " 'Asia/Qyzylorda',\n",
       " 'Asia/Rangoon',\n",
       " 'Asia/Riyadh',\n",
       " 'Asia/Saigon',\n",
       " 'Asia/Sakhalin',\n",
       " 'Asia/Samarkand',\n",
       " 'Asia/Seoul',\n",
       " 'Asia/Shanghai',\n",
       " 'Asia/Singapore',\n",
       " 'Asia/Srednekolymsk',\n",
       " 'Asia/Taipei',\n",
       " 'Asia/Tashkent',\n",
       " 'Asia/Tbilisi',\n",
       " 'Asia/Tehran',\n",
       " 'Asia/Tel_Aviv',\n",
       " 'Asia/Thimbu',\n",
       " 'Asia/Thimphu',\n",
       " 'Asia/Tokyo',\n",
       " 'Asia/Tomsk',\n",
       " 'Asia/Ujung_Pandang',\n",
       " 'Asia/Ulaanbaatar',\n",
       " 'Asia/Ulan_Bator',\n",
       " 'Asia/Urumqi',\n",
       " 'Asia/Ust-Nera',\n",
       " 'Asia/Vientiane',\n",
       " 'Asia/Vladivostok',\n",
       " 'Asia/Yakutsk',\n",
       " 'Asia/Yangon',\n",
       " 'Asia/Yekaterinburg',\n",
       " 'Asia/Yerevan',\n",
       " 'Atlantic/Azores',\n",
       " 'Atlantic/Bermuda',\n",
       " 'Atlantic/Canary',\n",
       " 'Atlantic/Cape_Verde',\n",
       " 'Atlantic/Faeroe',\n",
       " 'Atlantic/Faroe',\n",
       " 'Atlantic/Jan_Mayen',\n",
       " 'Atlantic/Madeira',\n",
       " 'Atlantic/Reykjavik',\n",
       " 'Atlantic/South_Georgia',\n",
       " 'Atlantic/St_Helena',\n",
       " 'Atlantic/Stanley',\n",
       " 'Australia/ACT',\n",
       " 'Australia/Adelaide',\n",
       " 'Australia/Brisbane',\n",
       " 'Australia/Broken_Hill',\n",
       " 'Australia/Canberra',\n",
       " 'Australia/Currie',\n",
       " 'Australia/Darwin',\n",
       " 'Australia/Eucla',\n",
       " 'Australia/Hobart',\n",
       " 'Australia/LHI',\n",
       " 'Australia/Lindeman',\n",
       " 'Australia/Lord_Howe',\n",
       " 'Australia/Melbourne',\n",
       " 'Australia/NSW',\n",
       " 'Australia/North',\n",
       " 'Australia/Perth',\n",
       " 'Australia/Queensland',\n",
       " 'Australia/South',\n",
       " 'Australia/Sydney',\n",
       " 'Australia/Tasmania',\n",
       " 'Australia/Victoria',\n",
       " 'Australia/West',\n",
       " 'Australia/Yancowinna',\n",
       " 'Brazil/Acre',\n",
       " 'Brazil/DeNoronha',\n",
       " 'Brazil/East',\n",
       " 'Brazil/West',\n",
       " 'CET',\n",
       " 'CST6CDT',\n",
       " 'Canada/Atlantic',\n",
       " 'Canada/Central',\n",
       " 'Canada/Eastern',\n",
       " 'Canada/Mountain',\n",
       " 'Canada/Newfoundland',\n",
       " 'Canada/Pacific',\n",
       " 'Canada/Saskatchewan',\n",
       " 'Canada/Yukon',\n",
       " 'Chile/Continental',\n",
       " 'Chile/EasterIsland',\n",
       " 'Cuba',\n",
       " 'EET',\n",
       " 'EST',\n",
       " 'EST5EDT',\n",
       " 'Egypt',\n",
       " 'Eire',\n",
       " 'Etc/GMT',\n",
       " 'Etc/GMT+0',\n",
       " 'Etc/GMT+1',\n",
       " 'Etc/GMT+10',\n",
       " 'Etc/GMT+11',\n",
       " 'Etc/GMT+12',\n",
       " 'Etc/GMT+2',\n",
       " 'Etc/GMT+3',\n",
       " 'Etc/GMT+4',\n",
       " 'Etc/GMT+5',\n",
       " 'Etc/GMT+6',\n",
       " 'Etc/GMT+7',\n",
       " 'Etc/GMT+8',\n",
       " 'Etc/GMT+9',\n",
       " 'Etc/GMT-0',\n",
       " 'Etc/GMT-1',\n",
       " 'Etc/GMT-10',\n",
       " 'Etc/GMT-11',\n",
       " 'Etc/GMT-12',\n",
       " 'Etc/GMT-13',\n",
       " 'Etc/GMT-14',\n",
       " 'Etc/GMT-2',\n",
       " 'Etc/GMT-3',\n",
       " 'Etc/GMT-4',\n",
       " 'Etc/GMT-5',\n",
       " 'Etc/GMT-6',\n",
       " 'Etc/GMT-7',\n",
       " 'Etc/GMT-8',\n",
       " 'Etc/GMT-9',\n",
       " 'Etc/GMT0',\n",
       " 'Etc/Greenwich',\n",
       " 'Etc/UCT',\n",
       " 'Etc/UTC',\n",
       " 'Etc/Universal',\n",
       " 'Etc/Zulu',\n",
       " 'Europe/Amsterdam',\n",
       " 'Europe/Andorra',\n",
       " 'Europe/Astrakhan',\n",
       " 'Europe/Athens',\n",
       " 'Europe/Belfast',\n",
       " 'Europe/Belgrade',\n",
       " 'Europe/Berlin',\n",
       " 'Europe/Bratislava',\n",
       " 'Europe/Brussels',\n",
       " 'Europe/Bucharest',\n",
       " 'Europe/Budapest',\n",
       " 'Europe/Busingen',\n",
       " 'Europe/Chisinau',\n",
       " 'Europe/Copenhagen',\n",
       " 'Europe/Dublin',\n",
       " 'Europe/Gibraltar',\n",
       " 'Europe/Guernsey',\n",
       " 'Europe/Helsinki',\n",
       " 'Europe/Isle_of_Man',\n",
       " 'Europe/Istanbul',\n",
       " 'Europe/Jersey',\n",
       " 'Europe/Kaliningrad',\n",
       " 'Europe/Kiev',\n",
       " 'Europe/Kirov',\n",
       " 'Europe/Kyiv',\n",
       " 'Europe/Lisbon',\n",
       " 'Europe/Ljubljana',\n",
       " 'Europe/London',\n",
       " 'Europe/Luxembourg',\n",
       " 'Europe/Madrid',\n",
       " 'Europe/Malta',\n",
       " 'Europe/Mariehamn',\n",
       " 'Europe/Minsk',\n",
       " 'Europe/Monaco',\n",
       " 'Europe/Moscow',\n",
       " 'Europe/Nicosia',\n",
       " 'Europe/Oslo',\n",
       " 'Europe/Paris',\n",
       " 'Europe/Podgorica',\n",
       " 'Europe/Prague',\n",
       " 'Europe/Riga',\n",
       " 'Europe/Rome',\n",
       " 'Europe/Samara',\n",
       " 'Europe/San_Marino',\n",
       " 'Europe/Sarajevo',\n",
       " 'Europe/Saratov',\n",
       " 'Europe/Simferopol',\n",
       " 'Europe/Skopje',\n",
       " 'Europe/Sofia',\n",
       " 'Europe/Stockholm',\n",
       " 'Europe/Tallinn',\n",
       " 'Europe/Tirane',\n",
       " 'Europe/Tiraspol',\n",
       " 'Europe/Ulyanovsk',\n",
       " 'Europe/Uzhgorod',\n",
       " 'Europe/Vaduz',\n",
       " 'Europe/Vatican',\n",
       " 'Europe/Vienna',\n",
       " 'Europe/Vilnius',\n",
       " 'Europe/Volgograd',\n",
       " 'Europe/Warsaw',\n",
       " 'Europe/Zagreb',\n",
       " 'Europe/Zaporozhye',\n",
       " 'Europe/Zurich',\n",
       " 'Factory',\n",
       " 'GB',\n",
       " 'GB-Eire',\n",
       " 'GMT',\n",
       " 'GMT+0',\n",
       " 'GMT-0',\n",
       " 'GMT0',\n",
       " 'Greenwich',\n",
       " 'HST',\n",
       " 'Hongkong',\n",
       " 'Iceland',\n",
       " 'Indian/Antananarivo',\n",
       " 'Indian/Chagos',\n",
       " 'Indian/Christmas',\n",
       " 'Indian/Cocos',\n",
       " 'Indian/Comoro',\n",
       " 'Indian/Kerguelen',\n",
       " 'Indian/Mahe',\n",
       " 'Indian/Maldives',\n",
       " 'Indian/Mauritius',\n",
       " 'Indian/Mayotte',\n",
       " 'Indian/Reunion',\n",
       " 'Iran',\n",
       " 'Israel',\n",
       " 'Jamaica',\n",
       " 'Japan',\n",
       " 'Kwajalein',\n",
       " 'Libya',\n",
       " 'MET',\n",
       " 'MST',\n",
       " 'MST7MDT',\n",
       " 'Mexico/BajaNorte',\n",
       " 'Mexico/BajaSur',\n",
       " 'Mexico/General',\n",
       " 'NZ',\n",
       " 'NZ-CHAT',\n",
       " 'Navajo',\n",
       " 'PRC',\n",
       " 'PST8PDT',\n",
       " 'Pacific/Apia',\n",
       " 'Pacific/Auckland',\n",
       " 'Pacific/Bougainville',\n",
       " 'Pacific/Chatham',\n",
       " 'Pacific/Chuuk',\n",
       " 'Pacific/Easter',\n",
       " 'Pacific/Efate',\n",
       " 'Pacific/Enderbury',\n",
       " 'Pacific/Fakaofo',\n",
       " 'Pacific/Fiji',\n",
       " 'Pacific/Funafuti',\n",
       " 'Pacific/Galapagos',\n",
       " 'Pacific/Gambier',\n",
       " 'Pacific/Guadalcanal',\n",
       " 'Pacific/Guam',\n",
       " 'Pacific/Honolulu',\n",
       " 'Pacific/Johnston',\n",
       " 'Pacific/Kanton',\n",
       " 'Pacific/Kiritimati',\n",
       " 'Pacific/Kosrae',\n",
       " 'Pacific/Kwajalein',\n",
       " 'Pacific/Majuro',\n",
       " 'Pacific/Marquesas',\n",
       " 'Pacific/Midway',\n",
       " 'Pacific/Nauru',\n",
       " 'Pacific/Niue',\n",
       " 'Pacific/Norfolk',\n",
       " 'Pacific/Noumea',\n",
       " 'Pacific/Pago_Pago',\n",
       " 'Pacific/Palau',\n",
       " 'Pacific/Pitcairn',\n",
       " 'Pacific/Pohnpei',\n",
       " 'Pacific/Ponape',\n",
       " 'Pacific/Port_Moresby',\n",
       " 'Pacific/Rarotonga',\n",
       " 'Pacific/Saipan',\n",
       " 'Pacific/Samoa',\n",
       " 'Pacific/Tahiti',\n",
       " 'Pacific/Tarawa',\n",
       " 'Pacific/Tongatapu',\n",
       " 'Pacific/Truk',\n",
       " 'Pacific/Wake',\n",
       " 'Pacific/Wallis',\n",
       " 'Pacific/Yap',\n",
       " 'Poland',\n",
       " 'Portugal',\n",
       " 'ROC',\n",
       " 'ROK',\n",
       " 'Singapore',\n",
       " 'Turkey',\n",
       " 'UCT',\n",
       " 'US/Alaska',\n",
       " 'US/Aleutian',\n",
       " 'US/Arizona',\n",
       " 'US/Central',\n",
       " 'US/East-Indiana',\n",
       " 'US/Eastern',\n",
       " 'US/Hawaii',\n",
       " 'US/Indiana-Starke',\n",
       " 'US/Michigan',\n",
       " 'US/Mountain',\n",
       " 'US/Pacific',\n",
       " 'US/Samoa',\n",
       " 'UTC',\n",
       " 'Universal',\n",
       " 'W-SU',\n",
       " 'WET',\n",
       " 'Zulu',\n",
       " 'build/etc/localtime'}"
      ]
     },
     "execution_count": 9,
     "metadata": {},
     "output_type": "execute_result"
    }
   ],
   "execution_count": 9
  },
  {
   "metadata": {
    "ExecuteTime": {
     "end_time": "2025-03-11T16:06:57.629830Z",
     "start_time": "2025-03-11T16:06:57.623787Z"
    }
   },
   "cell_type": "code",
   "source": "from datetime import datetime\n",
   "id": "fa5e4f2b63251c7b",
   "outputs": [],
   "execution_count": 10
  },
  {
   "metadata": {
    "ExecuteTime": {
     "end_time": "2025-03-11T16:07:35.295973Z",
     "start_time": "2025-03-11T16:07:35.286684Z"
    }
   },
   "cell_type": "code",
   "source": "datetime(2023,1,23, tzinfo=zoneinfo.ZoneInfo('Asia/Shanghai'))",
   "id": "71cb6dca8a3f093a",
   "outputs": [
    {
     "data": {
      "text/plain": [
       "datetime.datetime(2023, 1, 23, 0, 0, tzinfo=zoneinfo.ZoneInfo(key='Asia/Shanghai'))"
      ]
     },
     "execution_count": 11,
     "metadata": {},
     "output_type": "execute_result"
    }
   ],
   "execution_count": 11
  },
  {
   "metadata": {
    "ExecuteTime": {
     "end_time": "2025-03-13T14:55:51.454914Z",
     "start_time": "2025-03-13T14:55:51.442741Z"
    }
   },
   "cell_type": "code",
   "source": [
    "def add(x, y):\n",
    "    breakpoint()\n",
    "    c =  x + y\n",
    "    return  c"
   ],
   "id": "f45cff93032f7e26",
   "outputs": [],
   "execution_count": 1
  },
  {
   "metadata": {
    "ExecuteTime": {
     "end_time": "2025-03-13T14:56:01.114419Z",
     "start_time": "2025-03-13T14:56:01.105142Z"
    }
   },
   "cell_type": "code",
   "source": "add(222,2221)",
   "id": "aa50802fd7263b63",
   "outputs": [
    {
     "data": {
      "text/plain": [
       "2443"
      ]
     },
     "execution_count": 3,
     "metadata": {},
     "output_type": "execute_result"
    }
   ],
   "execution_count": 3
  },
  {
   "metadata": {},
   "cell_type": "code",
   "outputs": [],
   "execution_count": null,
   "source": "",
   "id": "f0d3a6810ff27d0"
  }
 ],
 "metadata": {
  "kernelspec": {
   "display_name": "Python 3",
   "language": "python",
   "name": "python3"
  },
  "language_info": {
   "codemirror_mode": {
    "name": "ipython",
    "version": 2
   },
   "file_extension": ".py",
   "mimetype": "text/x-python",
   "name": "python",
   "nbconvert_exporter": "python",
   "pygments_lexer": "ipython2",
   "version": "2.7.6"
  }
 },
 "nbformat": 4,
 "nbformat_minor": 5
}
