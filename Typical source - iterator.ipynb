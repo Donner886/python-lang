{
 "cells": [
  {
   "cell_type": "code",
   "id": "initial_id",
   "metadata": {
    "collapsed": true,
    "ExecuteTime": {
     "end_time": "2025-01-13T12:36:30.524971Z",
     "start_time": "2025-01-13T12:36:30.521436Z"
    }
   },
   "source": [
    "my_string = 'aaaabbbb2sdadsafsd as'\n",
    "counter = 0"
   ],
   "outputs": [],
   "execution_count": 1
  },
  {
   "metadata": {
    "ExecuteTime": {
     "end_time": "2025-01-14T12:55:57.816405Z",
     "start_time": "2025-01-14T12:55:57.800952Z"
    }
   },
   "cell_type": "code",
   "source": [
    "for char_ in [str_ for str_ in my_string if str_ == 'b']:\n",
    "    counter +=1\n",
    "print('There is ', counter, 'letter b')\n",
    "\n",
    "\n",
    "6//2\n",
    "7//2\n",
    "divmod(7,2)\n",
    "divmod(20,6)\n"
   ],
   "id": "befc351b34eaa6ce",
   "outputs": [
    {
     "name": "stdout",
     "output_type": "stream",
     "text": [
      "There is  12 letter b\n"
     ]
    },
    {
     "data": {
      "text/plain": [
       "(3, 2)"
      ]
     },
     "execution_count": 27,
     "metadata": {},
     "output_type": "execute_result"
    }
   ],
   "execution_count": 27
  },
  {
   "metadata": {
    "ExecuteTime": {
     "end_time": "2025-01-13T14:16:21.785613Z",
     "start_time": "2025-01-13T14:16:21.782156Z"
    }
   },
   "cell_type": "code",
   "source": [
    "class Example:\n",
    "    def __init__(self, value):\n",
    "        self.value = value\n",
    "        \n",
    "    def __iadd__(self, other):\n",
    "        return self.value + other + 1\n",
    "    \n",
    "    def __abs__(self):\n",
    "        print(f'absolute value')\n",
    "        return  self.value + 1\n",
    "    \n",
    "    \n",
    "e = Example(29)\n",
    "e += 22\n",
    "abs(Example(29))\n"
   ],
   "id": "be5aa6d0c4fbfd1e",
   "outputs": [],
   "execution_count": 22
  },
  {
   "metadata": {
    "ExecuteTime": {
     "end_time": "2025-01-14T12:56:06.810659Z",
     "start_time": "2025-01-14T12:56:06.807081Z"
    }
   },
   "cell_type": "code",
   "source": "",
   "id": "b5d53a6346e1eef9",
   "outputs": [],
   "execution_count": 27
  },
  {
   "metadata": {},
   "cell_type": "markdown",
   "source": "### 如果一个对象可以一次产生另一个对象， 那么第一个对象被认为是可迭代对象。  ",
   "id": "870cd144bb71b44"
  },
  {
   "metadata": {
    "ExecuteTime": {
     "end_time": "2025-01-14T13:04:06.816513Z",
     "start_time": "2025-01-14T13:04:06.810562Z"
    }
   },
   "cell_type": "code",
   "source": [
    "# 列表\n",
    "my_list = [1, 2, 3, 4, 5]\n",
    "for item in my_list:\n",
    "    print(item)\n",
    "\n",
    "# 元组\n",
    "my_tuple = (1, 2, 3, 4, 5)\n",
    "for item in my_tuple:\n",
    "    print(item)\n",
    "\n",
    "# 字符串\n",
    "my_string = \"Hello\"\n",
    "for char in my_string:\n",
    "    print(char)\n",
    "\n",
    "# 字典\n",
    "my_dict = {'a': 1, 'b': 2, 'c': 3}\n",
    "for key in my_dict:\n",
    "    print(key, my_dict[key])\n",
    "\n",
    "# 集合\n",
    "my_set = {1, 2, 3, 4, 5}\n",
    "for item in my_set:\n",
    "    print(item)\n"
   ],
   "id": "4a3ab7aca77efabe",
   "outputs": [
    {
     "name": "stdout",
     "output_type": "stream",
     "text": [
      "1\n",
      "2\n",
      "3\n",
      "4\n",
      "5\n",
      "1\n",
      "2\n",
      "3\n",
      "4\n",
      "5\n",
      "H\n",
      "e\n",
      "l\n",
      "l\n",
      "o\n",
      "a 1\n",
      "b 2\n",
      "c 3\n",
      "1\n",
      "2\n",
      "3\n",
      "4\n",
      "5\n"
     ]
    }
   ],
   "execution_count": 28
  },
  {
   "metadata": {
    "ExecuteTime": {
     "end_time": "2025-01-14T13:09:31.402001Z",
     "start_time": "2025-01-14T13:09:31.394309Z"
    }
   },
   "cell_type": "code",
   "source": [
    "### 自己创建一个可迭代对象\n",
    "class MyIterable:\n",
    "    def __init__(self, data):\n",
    "        self.data = data\n",
    "    \n",
    "    def __iter__(self):\n",
    "        self.index = 0\n",
    "        return self\n",
    "    \n",
    "    def __next__(self):\n",
    "        if self.index < len(self.data):\n",
    "            result = self.data[self.index]\n",
    "            self.index += 1\n",
    "            return result\n",
    "        else:\n",
    "            raise StopIteration\n",
    "        \n",
    "        "
   ],
   "id": "c50983d8410d5b7a",
   "outputs": [],
   "execution_count": 29
  },
  {
   "metadata": {
    "ExecuteTime": {
     "end_time": "2025-01-14T13:10:10.366454Z",
     "start_time": "2025-01-14T13:10:10.352388Z"
    }
   },
   "cell_type": "code",
   "source": [
    "# 创建一个 MyIterable 实例并进行迭代\n",
    "my_iterable = MyIterable([1, 2, 3, 4, 5]) \n",
    "for item in my_iterable: \n",
    "    print(item)"
   ],
   "id": "6333bbcb20a5a5cb",
   "outputs": [
    {
     "name": "stdout",
     "output_type": "stream",
     "text": [
      "1\n",
      "2\n",
      "3\n",
      "4\n",
      "5\n"
     ]
    }
   ],
   "execution_count": 31
  },
  {
   "metadata": {
    "ExecuteTime": {
     "end_time": "2025-01-15T13:31:59.688745Z",
     "start_time": "2025-01-15T13:31:59.679956Z"
    }
   },
   "cell_type": "code",
   "source": "",
   "id": "cd2be23be85033a",
   "outputs": [],
   "execution_count": 31
  },
  {
   "metadata": {
    "ExecuteTime": {
     "end_time": "2025-01-15T13:31:59.801769Z",
     "start_time": "2025-01-15T13:31:59.795251Z"
    }
   },
   "cell_type": "code",
   "source": "",
   "id": "d122a3e9ed4a9f81",
   "outputs": [],
   "execution_count": 31
  },
  {
   "metadata": {
    "ExecuteTime": {
     "end_time": "2025-01-15T13:31:59.986242Z",
     "start_time": "2025-01-15T13:31:59.976274Z"
    }
   },
   "cell_type": "code",
   "source": "",
   "id": "58d315ffab045340",
   "outputs": [],
   "execution_count": 31
  },
  {
   "metadata": {
    "ExecuteTime": {
     "end_time": "2025-01-15T13:36:24.189917Z",
     "start_time": "2025-01-15T13:36:24.178427Z"
    }
   },
   "cell_type": "code",
   "source": [
    "## 迭代器\n",
    "class RangeIter:\n",
    "    def __init__(self, count):\n",
    "        self.count = count\n",
    "        self.current = 0\n",
    "        \n",
    "    def __iter__(self):\n",
    "        return self\n",
    "    \n",
    "    def __next__(self):\n",
    "        value = self.current\n",
    "        self.current += 1\n",
    "        if self.current > self.count:\n",
    "            raise StopIteration\n",
    "        return value\n"
   ],
   "id": "870866235311eae9",
   "outputs": [],
   "execution_count": 34
  },
  {
   "metadata": {
    "ExecuteTime": {
     "end_time": "2025-01-15T13:36:24.353796Z",
     "start_time": "2025-01-15T13:36:24.342312Z"
    }
   },
   "cell_type": "code",
   "source": [
    "### 可迭代对象\n",
    "class Range:\n",
    "    def __init__(self, count):\n",
    "        self.count = count\n",
    "    \n",
    "    def __iter__(self):\n",
    "        return RangeIter(self.count)"
   ],
   "id": "57f9919b3264b14b",
   "outputs": [],
   "execution_count": 35
  },
  {
   "metadata": {
    "ExecuteTime": {
     "end_time": "2025-01-15T13:55:31.068555Z",
     "start_time": "2025-01-15T13:55:31.056005Z"
    }
   },
   "cell_type": "code",
   "source": [
    "### 自定义可迭代对象和迭代器\n",
    "class MyIterable:\n",
    "    def __init__(self, data):\n",
    "        self.data = data\n",
    "    \n",
    "    def __iter__(self):\n",
    "        return MyIterator(self.data)"
   ],
   "id": "33f522cc260df228",
   "outputs": [],
   "execution_count": 38
  },
  {
   "metadata": {
    "ExecuteTime": {
     "end_time": "2025-01-15T13:55:32.223737Z",
     "start_time": "2025-01-15T13:55:32.212303Z"
    }
   },
   "cell_type": "code",
   "source": [
    "class MyIterator:\n",
    "    def __init__(self, data):\n",
    "        self.data = data\n",
    "        self.index = 0\n",
    "        \n",
    "    def __iter__(self):\n",
    "        return self\n",
    "    \n",
    "    def __next__(self):\n",
    "        if self.index < len(self.data):\n",
    "            result = self.data[self.index]\n",
    "            self.index += 1\n",
    "            return result\n",
    "        else:\n",
    "            raise StopIteration\n",
    "        \n",
    "    "
   ],
   "id": "1b001deb6ddb8645",
   "outputs": [],
   "execution_count": 39
  },
  {
   "metadata": {
    "ExecuteTime": {
     "end_time": "2025-01-15T13:56:11.933583Z",
     "start_time": "2025-01-15T13:56:11.929018Z"
    }
   },
   "cell_type": "code",
   "source": "my_iterable = MyIterable('iteratable object')",
   "id": "a5bad1b575a5b0c6",
   "outputs": [],
   "execution_count": 40
  },
  {
   "metadata": {
    "ExecuteTime": {
     "end_time": "2025-01-15T13:57:00.731756Z",
     "start_time": "2025-01-15T13:57:00.727077Z"
    }
   },
   "cell_type": "code",
   "source": [
    "for item in my_iterable:\n",
    "    print(item, end='-')"
   ],
   "id": "53cf8e2447f25eb",
   "outputs": [
    {
     "name": "stdout",
     "output_type": "stream",
     "text": [
      "i-t-e-r-a-t-a-b-l-e- -o-b-j-e-c-t-"
     ]
    }
   ],
   "execution_count": 42
  },
  {
   "metadata": {
    "ExecuteTime": {
     "end_time": "2025-01-15T13:59:56.795234Z",
     "start_time": "2025-01-15T13:59:56.789926Z"
    }
   },
   "cell_type": "code",
   "source": [
    "class MyIterable:\n",
    "    def __init__(self,data):\n",
    "        self.data =data\n",
    "        \n",
    "    def __iter__(self):\n",
    "        return self"
   ],
   "id": "b688696c061a9ccc",
   "outputs": [],
   "execution_count": 43
  },
  {
   "metadata": {
    "ExecuteTime": {
     "end_time": "2025-01-15T14:30:56.632659Z",
     "start_time": "2025-01-15T14:30:56.629580Z"
    }
   },
   "cell_type": "code",
   "source": "",
   "id": "b98b40bd77460df6",
   "outputs": [],
   "execution_count": 47
  },
  {
   "metadata": {
    "ExecuteTime": {
     "end_time": "2025-01-15T14:30:56.780269Z",
     "start_time": "2025-01-15T14:30:56.776565Z"
    }
   },
   "cell_type": "code",
   "source": "",
   "id": "e7de694f1bf12272",
   "outputs": [],
   "execution_count": 47
  },
  {
   "metadata": {
    "ExecuteTime": {
     "end_time": "2025-01-15T14:32:23.833784Z",
     "start_time": "2025-01-15T14:32:23.828783Z"
    }
   },
   "cell_type": "code",
   "source": [
    "class MySequence:\n",
    "    def __init__(self,data):\n",
    "        self.data = data\n",
    "        \n",
    "    def __getitem__(self, item):\n",
    "        if item < len(self.data):\n",
    "            return self.data[item]\n",
    "        else:\n",
    "            raise IndexError('Index out of range')\n",
    "    "
   ],
   "id": "abbe73134367c5d3",
   "outputs": [],
   "execution_count": 48
  },
  {
   "metadata": {
    "ExecuteTime": {
     "end_time": "2025-01-15T14:32:42.552407Z",
     "start_time": "2025-01-15T14:32:42.548207Z"
    }
   },
   "cell_type": "code",
   "source": "my_sequence = MySequence([1,2,4,4])",
   "id": "349c8448cc913a73",
   "outputs": [],
   "execution_count": 49
  },
  {
   "metadata": {
    "ExecuteTime": {
     "end_time": "2025-01-15T14:33:06.166466Z",
     "start_time": "2025-01-15T14:33:06.160508Z"
    }
   },
   "cell_type": "code",
   "source": "my_sequence[1]",
   "id": "d536fecd197c4ae7",
   "outputs": [
    {
     "data": {
      "text/plain": [
       "2"
      ]
     },
     "execution_count": 50,
     "metadata": {},
     "output_type": "execute_result"
    }
   ],
   "execution_count": 50
  },
  {
   "metadata": {
    "ExecuteTime": {
     "end_time": "2025-01-15T14:33:24.000402Z",
     "start_time": "2025-01-15T14:33:23.985904Z"
    }
   },
   "cell_type": "code",
   "source": [
    "for index in my_sequence:\n",
    "    print(index)"
   ],
   "id": "5ba9f3d8e44893f9",
   "outputs": [
    {
     "name": "stdout",
     "output_type": "stream",
     "text": [
      "1\n",
      "2\n",
      "4\n",
      "4\n"
     ]
    }
   ],
   "execution_count": 51
  },
  {
   "metadata": {
    "ExecuteTime": {
     "end_time": "2025-01-20T12:50:34.408561Z",
     "start_time": "2025-01-20T12:50:34.404823Z"
    }
   },
   "cell_type": "code",
   "source": "### 使用__getitem__() 方法可以从序列中挑选出单独的元素，或者在必要的时从一些其他数据结构中进行检索\n",
   "id": "bf727f6e8658d410",
   "outputs": [],
   "execution_count": 2
  },
  {
   "metadata": {
    "ExecuteTime": {
     "end_time": "2025-01-20T13:06:41.013154Z",
     "start_time": "2025-01-20T13:06:41.007243Z"
    }
   },
   "cell_type": "code",
   "source": [
    "class Range:\n",
    "    def __init__(self, a, b = None, step = 1):\n",
    "        \"\"\"\n",
    "        Define a range according to a starting value, an end value and a step.  \n",
    "        if only one argument is provided. it's taken to be the end value.  if two arguments are passed in, \n",
    "        the first becomes a start value, and while the second is the end value.  and optional step can be \n",
    "        provided to control how far apart each value is from the next.  \n",
    "        :param a: \n",
    "        :param b: \n",
    "        :param step: \n",
    "        \"\"\"\n",
    "        if b is not None:\n",
    "            self.start = a\n",
    "            self.end = b\n",
    "        else:\n",
    "            self.start = 0\n",
    "            self.end = a\n",
    "        self.step = step \n",
    "        \n",
    "    def __getitem__(self, item):\n",
    "        if isinstance(item, slice):\n",
    "            r = range(item.start or 0, item.stop, item.step or 1)\n",
    "            return [self.start + self.step * val for val in r]\n",
    "        value = self.step * item + self.start\n",
    "        if value < self.end:\n",
    "            return value\n",
    "        else:\n",
    "            raise IndexError('Key outside of the given range')"
   ],
   "id": "5666d575f30c3fb8",
   "outputs": [],
   "execution_count": 6
  },
  {
   "metadata": {
    "ExecuteTime": {
     "end_time": "2025-01-20T13:06:44.900973Z",
     "start_time": "2025-01-20T13:06:44.896974Z"
    }
   },
   "cell_type": "code",
   "source": "r = Range(11) ",
   "id": "5ce660e7dc68e663",
   "outputs": [],
   "execution_count": 7
  },
  {
   "metadata": {
    "ExecuteTime": {
     "end_time": "2025-01-20T13:06:45.470467Z",
     "start_time": "2025-01-20T13:06:45.460150Z"
    }
   },
   "cell_type": "code",
   "source": "list(r)",
   "id": "183275b4a512f3f9",
   "outputs": [
    {
     "data": {
      "text/plain": [
       "[0, 1, 2, 3, 4, 5, 6, 7, 8, 9, 10]"
      ]
     },
     "execution_count": 8,
     "metadata": {},
     "output_type": "execute_result"
    }
   ],
   "execution_count": 8
  },
  {
   "metadata": {
    "ExecuteTime": {
     "end_time": "2025-01-20T13:07:14.762384Z",
     "start_time": "2025-01-20T13:07:14.758133Z"
    }
   },
   "cell_type": "code",
   "source": "r = Range(2, 11, 3)",
   "id": "a7f82b50a99209c6",
   "outputs": [],
   "execution_count": 9
  },
  {
   "metadata": {
    "ExecuteTime": {
     "end_time": "2025-01-20T13:07:19.193853Z",
     "start_time": "2025-01-20T13:07:19.188537Z"
    }
   },
   "cell_type": "code",
   "source": "list(r)",
   "id": "a6554b736fd45f11",
   "outputs": [
    {
     "data": {
      "text/plain": [
       "[2, 5, 8]"
      ]
     },
     "execution_count": 10,
     "metadata": {},
     "output_type": "execute_result"
    }
   ],
   "execution_count": 10
  },
  {
   "metadata": {
    "ExecuteTime": {
     "end_time": "2025-01-20T13:07:25.375383Z",
     "start_time": "2025-01-20T13:07:25.369828Z"
    }
   },
   "cell_type": "code",
   "source": "r[1]",
   "id": "85f0474555aafc82",
   "outputs": [
    {
     "data": {
      "text/plain": [
       "5"
      ]
     },
     "execution_count": 11,
     "metadata": {},
     "output_type": "execute_result"
    }
   ],
   "execution_count": 11
  },
  {
   "metadata": {
    "ExecuteTime": {
     "end_time": "2025-01-20T14:55:20.911052Z",
     "start_time": "2025-01-20T14:55:20.899041Z"
    }
   },
   "cell_type": "code",
   "source": "id(r)",
   "id": "4cc8a96c4daf172a",
   "outputs": [
    {
     "data": {
      "text/plain": [
       "2761344494288"
      ]
     },
     "execution_count": 12,
     "metadata": {},
     "output_type": "execute_result"
    }
   ],
   "execution_count": 12
  },
  {
   "metadata": {
    "ExecuteTime": {
     "end_time": "2025-01-20T14:55:25.136389Z",
     "start_time": "2025-01-20T14:55:25.131388Z"
    }
   },
   "cell_type": "code",
   "source": "r",
   "id": "3d618883a3ad04d9",
   "outputs": [
    {
     "data": {
      "text/plain": [
       "<__main__.Range at 0x282ecf52ad0>"
      ]
     },
     "execution_count": 13,
     "metadata": {},
     "output_type": "execute_result"
    }
   ],
   "execution_count": 13
  },
  {
   "metadata": {},
   "cell_type": "code",
   "outputs": [],
   "execution_count": null,
   "source": "",
   "id": "ae9358aa63ba76e6"
  }
 ],
 "metadata": {
  "kernelspec": {
   "display_name": "Python 3",
   "language": "python",
   "name": "python3"
  },
  "language_info": {
   "codemirror_mode": {
    "name": "ipython",
    "version": 2
   },
   "file_extension": ".py",
   "mimetype": "text/x-python",
   "name": "python",
   "nbconvert_exporter": "python",
   "pygments_lexer": "ipython2",
   "version": "2.7.6"
  }
 },
 "nbformat": 4,
 "nbformat_minor": 5
}
